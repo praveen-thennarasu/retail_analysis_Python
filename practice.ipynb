{
 "cells": [
  {
   "cell_type": "code",
   "execution_count": 3,
   "id": "2a5a34b4-9155-464e-83b1-180d8d9ca0d6",
   "metadata": {},
   "outputs": [],
   "source": [
    "import pandas as pd\n",
    "import matplotlib.pyplot as plt\n",
    "import datetime as dt\n",
    "import numpy as np"
   ]
  },
  {
   "cell_type": "code",
   "execution_count": 4,
   "id": "19f6c353-6988-454f-bf95-7957e59d9d54",
   "metadata": {},
   "outputs": [],
   "source": [
    "customers = pd.read_csv('customer.csv')"
   ]
  },
  {
   "cell_type": "code",
   "execution_count": 37,
   "id": "f469fc4e-ada7-4a89-9fe3-626a3e44f101",
   "metadata": {},
   "outputs": [
    {
     "data": {
      "text/plain": [
       "customer_Id      int64\n",
       "DOB             object\n",
       "Gender          object\n",
       "city_code      float64\n",
       "dtype: object"
      ]
     },
     "execution_count": 37,
     "metadata": {},
     "output_type": "execute_result"
    }
   ],
   "source": [
    "customers.dtypes"
   ]
  },
  {
   "cell_type": "code",
   "execution_count": 38,
   "id": "8b400fa5-415e-46cd-bc78-24c6fc2824f6",
   "metadata": {},
   "outputs": [
    {
     "data": {
      "text/html": [
       "<div>\n",
       "<style scoped>\n",
       "    .dataframe tbody tr th:only-of-type {\n",
       "        vertical-align: middle;\n",
       "    }\n",
       "\n",
       "    .dataframe tbody tr th {\n",
       "        vertical-align: top;\n",
       "    }\n",
       "\n",
       "    .dataframe thead th {\n",
       "        text-align: right;\n",
       "    }\n",
       "</style>\n",
       "<table border=\"1\" class=\"dataframe\">\n",
       "  <thead>\n",
       "    <tr style=\"text-align: right;\">\n",
       "      <th></th>\n",
       "      <th>customer_Id</th>\n",
       "      <th>DOB</th>\n",
       "      <th>Gender</th>\n",
       "      <th>city_code</th>\n",
       "    </tr>\n",
       "  </thead>\n",
       "  <tbody>\n",
       "    <tr>\n",
       "      <th>0</th>\n",
       "      <td>268408</td>\n",
       "      <td>02-01-1970</td>\n",
       "      <td>M</td>\n",
       "      <td>4.0</td>\n",
       "    </tr>\n",
       "    <tr>\n",
       "      <th>1</th>\n",
       "      <td>269696</td>\n",
       "      <td>07-01-1970</td>\n",
       "      <td>F</td>\n",
       "      <td>8.0</td>\n",
       "    </tr>\n",
       "    <tr>\n",
       "      <th>2</th>\n",
       "      <td>268159</td>\n",
       "      <td>08-01-1970</td>\n",
       "      <td>F</td>\n",
       "      <td>8.0</td>\n",
       "    </tr>\n",
       "    <tr>\n",
       "      <th>3</th>\n",
       "      <td>270181</td>\n",
       "      <td>10-01-1970</td>\n",
       "      <td>F</td>\n",
       "      <td>2.0</td>\n",
       "    </tr>\n",
       "    <tr>\n",
       "      <th>4</th>\n",
       "      <td>268073</td>\n",
       "      <td>11-01-1970</td>\n",
       "      <td>M</td>\n",
       "      <td>1.0</td>\n",
       "    </tr>\n",
       "  </tbody>\n",
       "</table>\n",
       "</div>"
      ],
      "text/plain": [
       "   customer_Id         DOB Gender  city_code\n",
       "0       268408  02-01-1970      M        4.0\n",
       "1       269696  07-01-1970      F        8.0\n",
       "2       268159  08-01-1970      F        8.0\n",
       "3       270181  10-01-1970      F        2.0\n",
       "4       268073  11-01-1970      M        1.0"
      ]
     },
     "execution_count": 38,
     "metadata": {},
     "output_type": "execute_result"
    }
   ],
   "source": [
    "customers.head()"
   ]
  },
  {
   "cell_type": "code",
   "execution_count": 4,
   "id": "dc7336ee-25e2-415e-a4d8-9891041b63b0",
   "metadata": {},
   "outputs": [
    {
     "name": "stderr",
     "output_type": "stream",
     "text": [
      "C:\\Users\\Praveen\\AppData\\Local\\Temp\\ipykernel_12852\\3940727631.py:1: UserWarning: Parsing dates in %d-%m-%Y format when dayfirst=False (the default) was specified. Pass `dayfirst=True` or specify a format to silence this warning.\n",
      "  customers.DOB = customers.DOB.apply(lambda x : pd.to_datetime(x))\n"
     ]
    }
   ],
   "source": [
    "customers.DOB = customers.DOB.apply(lambda x : pd.to_datetime(x))"
   ]
  },
  {
   "cell_type": "code",
   "execution_count": 42,
   "id": "5e39aafb-a12b-4f96-9a1b-415c804830d3",
   "metadata": {},
   "outputs": [
    {
     "data": {
      "text/plain": [
       "customer_Id             int64\n",
       "DOB            datetime64[ns]\n",
       "Gender                 object\n",
       "city_code             float64\n",
       "dtype: object"
      ]
     },
     "execution_count": 42,
     "metadata": {},
     "output_type": "execute_result"
    }
   ],
   "source": [
    "customers.dtypes"
   ]
  },
  {
   "cell_type": "code",
   "execution_count": 43,
   "id": "c291ba92-0e1d-4c2a-8aea-5632b40aa82b",
   "metadata": {},
   "outputs": [
    {
     "data": {
      "text/plain": [
       "customer_Id    0\n",
       "DOB            0\n",
       "Gender         2\n",
       "city_code      2\n",
       "dtype: int64"
      ]
     },
     "execution_count": 43,
     "metadata": {},
     "output_type": "execute_result"
    }
   ],
   "source": [
    "customers.isna().sum()"
   ]
  },
  {
   "cell_type": "code",
   "execution_count": 44,
   "id": "79d21cac-7606-4d99-b8d3-f2b691694650",
   "metadata": {},
   "outputs": [
    {
     "data": {
      "text/plain": [
       "(5647, 4)"
      ]
     },
     "execution_count": 44,
     "metadata": {},
     "output_type": "execute_result"
    }
   ],
   "source": [
    "customers.shape"
   ]
  },
  {
   "cell_type": "code",
   "execution_count": 5,
   "id": "4701f822-5356-4121-b7e3-9e8a0a679ae8",
   "metadata": {},
   "outputs": [],
   "source": [
    "transactions = pd.read_csv('transactions.csv')"
   ]
  },
  {
   "cell_type": "code",
   "execution_count": 47,
   "id": "5137879e-f7b3-4752-b166-f2f4ce8e1ed6",
   "metadata": {},
   "outputs": [
    {
     "data": {
      "text/plain": [
       "transaction_id        int64\n",
       "cust_id               int64\n",
       "tran_date            object\n",
       "prod_subcat_code      int64\n",
       "prod_cat_code         int64\n",
       "Qty                   int64\n",
       "Rate                  int64\n",
       "Tax                 float64\n",
       "total_amt           float64\n",
       "Store_type           object\n",
       "dtype: object"
      ]
     },
     "execution_count": 47,
     "metadata": {},
     "output_type": "execute_result"
    }
   ],
   "source": [
    "transactions.dtypes"
   ]
  },
  {
   "cell_type": "code",
   "execution_count": 6,
   "id": "940c82a7-95c6-4eaf-965e-087bddf72024",
   "metadata": {},
   "outputs": [],
   "source": [
    "transactions.tran_date = transactions.tran_date.apply(lambda x : dt.datetime.strptime(x, \"%d-%m-%Y\") if '-' in x else dt.datetime.strptime(x, \"%d/%m/%Y\") )"
   ]
  },
  {
   "cell_type": "code",
   "execution_count": 58,
   "id": "fac06cc4-1ee9-404d-8744-a8e83fef7667",
   "metadata": {},
   "outputs": [
    {
     "data": {
      "text/plain": [
       "0       2014-02-28\n",
       "1       2014-02-27\n",
       "2       2014-02-24\n",
       "3       2014-02-24\n",
       "4       2014-02-23\n",
       "           ...    \n",
       "23048   2011-01-25\n",
       "23049   2011-01-25\n",
       "23050   2011-01-25\n",
       "23051   2011-01-25\n",
       "23052   2011-01-25\n",
       "Name: tran_date, Length: 23053, dtype: datetime64[ns]"
      ]
     },
     "execution_count": 58,
     "metadata": {},
     "output_type": "execute_result"
    }
   ],
   "source": [
    "transactions.tran_date"
   ]
  },
  {
   "cell_type": "code",
   "execution_count": 59,
   "id": "ff4f46a8-181a-48e2-a1c1-d9b8ff753bb1",
   "metadata": {},
   "outputs": [
    {
     "data": {
      "text/plain": [
       "transaction_id               int64\n",
       "cust_id                      int64\n",
       "tran_date           datetime64[ns]\n",
       "prod_subcat_code             int64\n",
       "prod_cat_code                int64\n",
       "Qty                          int64\n",
       "Rate                         int64\n",
       "Tax                        float64\n",
       "total_amt                  float64\n",
       "Store_type                  object\n",
       "dtype: object"
      ]
     },
     "execution_count": 59,
     "metadata": {},
     "output_type": "execute_result"
    }
   ],
   "source": [
    "transactions.dtypes"
   ]
  },
  {
   "cell_type": "code",
   "execution_count": 6,
   "id": "36a57bed-e61c-4d8a-bdb8-56176d290744",
   "metadata": {},
   "outputs": [],
   "source": [
    "transactions.rename(columns = {'cust_id':'customer_Id'} , inplace = True)"
   ]
  },
  {
   "cell_type": "code",
   "execution_count": 9,
   "id": "1bfa9896-bec6-4702-869e-36e2f9e3b6a5",
   "metadata": {},
   "outputs": [
    {
     "data": {
      "text/plain": [
       "set()"
      ]
     },
     "execution_count": 9,
     "metadata": {},
     "output_type": "execute_result"
    }
   ],
   "source": [
    "x1 = set(transactions['customer_Id'])\n",
    "x2 = set(customers['customer_Id'])\n",
    "x1.difference(x2)"
   ]
  },
  {
   "cell_type": "code",
   "execution_count": 73,
   "id": "3a441755-8133-40d4-9004-ffd0942869a5",
   "metadata": {},
   "outputs": [
    {
     "data": {
      "text/plain": [
       "transaction_id      20878\n",
       "customer_Id          5506\n",
       "tran_date            1129\n",
       "prod_subcat_code       12\n",
       "prod_cat_code           6\n",
       "Qty                    10\n",
       "Rate                 2551\n",
       "Tax                  4194\n",
       "total_amt            5764\n",
       "Store_type              4\n",
       "dtype: int64"
      ]
     },
     "execution_count": 73,
     "metadata": {},
     "output_type": "execute_result"
    }
   ],
   "source": [
    "transactions.nunique()"
   ]
  },
  {
   "cell_type": "code",
   "execution_count": 70,
   "id": "ed35f4c1-45c8-4b37-9d33-c0bd080b6cc2",
   "metadata": {},
   "outputs": [
    {
     "data": {
      "text/plain": [
       "customer_Id    5647\n",
       "DOB            4056\n",
       "Gender            2\n",
       "city_code        10\n",
       "dtype: int64"
      ]
     },
     "execution_count": 70,
     "metadata": {},
     "output_type": "execute_result"
    }
   ],
   "source": [
    "customers.nunique()"
   ]
  },
  {
   "cell_type": "code",
   "execution_count": 78,
   "id": "7eb09fb2-5781-41b4-ab69-a52da2e02933",
   "metadata": {},
   "outputs": [
    {
     "data": {
      "text/plain": [
       "prod_cat_code         6\n",
       "prod_cat              6\n",
       "prod_sub_cat_code    12\n",
       "prod_subcat          18\n",
       "dtype: int64"
      ]
     },
     "execution_count": 78,
     "metadata": {},
     "output_type": "execute_result"
    }
   ],
   "source": [
    "prod_cat_info.nunique()"
   ]
  },
  {
   "cell_type": "code",
   "execution_count": 9,
   "id": "d65eadbe-d0d5-4c09-b84a-883e0d7cd6c1",
   "metadata": {},
   "outputs": [
    {
     "data": {
      "text/plain": [
       "transaction_id      [80712190438, 29258453508, 51750724947, 932748...\n",
       "customer_Id         [270351, 270384, 273420, 271509, 272357, 27366...\n",
       "tran_date           [2014-02-28 00:00:00, 2014-02-27 00:00:00, 201...\n",
       "prod_subcat_code              [1, 5, 6, 11, 8, 12, 3, 7, 4, 9, 10, 2]\n",
       "prod_cat_code                                      [1, 3, 5, 6, 2, 4]\n",
       "Qty                               [-5, -2, -3, -1, -4, 5, 3, 4, 1, 2]\n",
       "Rate                [-772, -1497, -791, -1363, -824, -1450, -1225,...\n",
       "Tax                 [405.3, 785.925, 166.11, 429.345, 173.04, 152....\n",
       "total_amt           [-4265.3, -8270.925, -1748.11, -4518.345, -182...\n",
       "Store_type                    [e-Shop, TeleShop, MBR, Flagship store]\n",
       "dtype: object"
      ]
     },
     "execution_count": 9,
     "metadata": {},
     "output_type": "execute_result"
    }
   ],
   "source": [
    "transactions.apply(lambda col : col.unique())"
   ]
  },
  {
   "cell_type": "code",
   "execution_count": 10,
   "id": "98fe6625-24db-4046-99c5-0fd75bb76bc2",
   "metadata": {},
   "outputs": [],
   "source": [
    "prod_cat_info = pd.read_csv('prod_cat_info.csv')"
   ]
  },
  {
   "cell_type": "code",
   "execution_count": 76,
   "id": "db01792e-a9df-4c12-b9de-dcbb55b37ac5",
   "metadata": {},
   "outputs": [
    {
     "data": {
      "text/plain": [
       "prod_cat_code         int64\n",
       "prod_cat             object\n",
       "prod_sub_cat_code     int64\n",
       "prod_subcat          object\n",
       "dtype: object"
      ]
     },
     "execution_count": 76,
     "metadata": {},
     "output_type": "execute_result"
    }
   ],
   "source": [
    "prod_cat_info.dtypes"
   ]
  },
  {
   "cell_type": "code",
   "execution_count": 11,
   "id": "11cab097-09a0-49ef-9cf3-5696224c4edd",
   "metadata": {},
   "outputs": [
    {
     "data": {
      "text/plain": [
       "prod_cat_code                                       [1, 2, 3, 4, 5, 6]\n",
       "prod_cat             [Clothing, Footwear, Electronics, Bags, Books,...\n",
       "prod_sub_cat_code              [4, 1, 3, 5, 8, 9, 10, 7, 12, 11, 6, 2]\n",
       "prod_subcat          [Mens, Women, Kids, Mobiles, Computers, Person...\n",
       "dtype: object"
      ]
     },
     "execution_count": 11,
     "metadata": {},
     "output_type": "execute_result"
    }
   ],
   "source": [
    "prod_cat_info.apply(lambda col : col.unique())"
   ]
  },
  {
   "cell_type": "code",
   "execution_count": 14,
   "id": "2231d6dc-de5e-43d0-bf12-2e3818216600",
   "metadata": {},
   "outputs": [],
   "source": [
    "customers_final = transactions.merge(customers , on = 'customer_Id' , how = 'left')"
   ]
  },
  {
   "cell_type": "code",
   "execution_count": 16,
   "id": "9df7948d-e5c7-4b45-9c70-68de026b7117",
   "metadata": {},
   "outputs": [],
   "source": [
    "customer_final1 = customers_final"
   ]
  },
  {
   "cell_type": "code",
   "execution_count": 17,
   "id": "ca2f600c-f37e-4f8a-88b8-feea44c00b66",
   "metadata": {},
   "outputs": [],
   "source": [
    "customer_final1.rename(columns = {'prod_subcat_code' : 'prod_sub_cat_code'}, inplace = True)"
   ]
  },
  {
   "cell_type": "code",
   "execution_count": 18,
   "id": "e22f7ccf-5d56-45fa-8f9f-507384c9bdd8",
   "metadata": {},
   "outputs": [],
   "source": [
    "customers_final = customer_final1.merge(prod_cat_info, on = ['prod_cat_code','prod_sub_cat_code'], how = 'left' )"
   ]
  },
  {
   "cell_type": "code",
   "execution_count": 19,
   "id": "c7211a52-8a7a-41df-89a4-1978285930ba",
   "metadata": {},
   "outputs": [
    {
     "data": {
      "text/html": [
       "<div>\n",
       "<style scoped>\n",
       "    .dataframe tbody tr th:only-of-type {\n",
       "        vertical-align: middle;\n",
       "    }\n",
       "\n",
       "    .dataframe tbody tr th {\n",
       "        vertical-align: top;\n",
       "    }\n",
       "\n",
       "    .dataframe thead th {\n",
       "        text-align: right;\n",
       "    }\n",
       "</style>\n",
       "<table border=\"1\" class=\"dataframe\">\n",
       "  <thead>\n",
       "    <tr style=\"text-align: right;\">\n",
       "      <th></th>\n",
       "      <th>transaction_id</th>\n",
       "      <th>customer_Id</th>\n",
       "      <th>tran_date</th>\n",
       "      <th>prod_sub_cat_code</th>\n",
       "      <th>prod_cat_code</th>\n",
       "      <th>Qty</th>\n",
       "      <th>Rate</th>\n",
       "      <th>Tax</th>\n",
       "      <th>total_amt</th>\n",
       "      <th>Store_type</th>\n",
       "      <th>DOB</th>\n",
       "      <th>Gender</th>\n",
       "      <th>city_code</th>\n",
       "      <th>prod_cat</th>\n",
       "      <th>prod_subcat</th>\n",
       "    </tr>\n",
       "  </thead>\n",
       "  <tbody>\n",
       "    <tr>\n",
       "      <th>0</th>\n",
       "      <td>80712190438</td>\n",
       "      <td>270351</td>\n",
       "      <td>2014-02-28</td>\n",
       "      <td>1</td>\n",
       "      <td>1</td>\n",
       "      <td>-5</td>\n",
       "      <td>-772</td>\n",
       "      <td>405.300</td>\n",
       "      <td>-4265.300</td>\n",
       "      <td>e-Shop</td>\n",
       "      <td>1981-09-26</td>\n",
       "      <td>M</td>\n",
       "      <td>5.0</td>\n",
       "      <td>Clothing</td>\n",
       "      <td>Women</td>\n",
       "    </tr>\n",
       "    <tr>\n",
       "      <th>1</th>\n",
       "      <td>29258453508</td>\n",
       "      <td>270384</td>\n",
       "      <td>2014-02-27</td>\n",
       "      <td>5</td>\n",
       "      <td>3</td>\n",
       "      <td>-5</td>\n",
       "      <td>-1497</td>\n",
       "      <td>785.925</td>\n",
       "      <td>-8270.925</td>\n",
       "      <td>e-Shop</td>\n",
       "      <td>1973-11-05</td>\n",
       "      <td>F</td>\n",
       "      <td>8.0</td>\n",
       "      <td>Electronics</td>\n",
       "      <td>Computers</td>\n",
       "    </tr>\n",
       "    <tr>\n",
       "      <th>2</th>\n",
       "      <td>51750724947</td>\n",
       "      <td>273420</td>\n",
       "      <td>2014-02-24</td>\n",
       "      <td>6</td>\n",
       "      <td>5</td>\n",
       "      <td>-2</td>\n",
       "      <td>-791</td>\n",
       "      <td>166.110</td>\n",
       "      <td>-1748.110</td>\n",
       "      <td>TeleShop</td>\n",
       "      <td>1992-07-27</td>\n",
       "      <td>M</td>\n",
       "      <td>8.0</td>\n",
       "      <td>Books</td>\n",
       "      <td>DIY</td>\n",
       "    </tr>\n",
       "    <tr>\n",
       "      <th>3</th>\n",
       "      <td>93274880719</td>\n",
       "      <td>271509</td>\n",
       "      <td>2014-02-24</td>\n",
       "      <td>11</td>\n",
       "      <td>6</td>\n",
       "      <td>-3</td>\n",
       "      <td>-1363</td>\n",
       "      <td>429.345</td>\n",
       "      <td>-4518.345</td>\n",
       "      <td>e-Shop</td>\n",
       "      <td>1981-08-06</td>\n",
       "      <td>M</td>\n",
       "      <td>3.0</td>\n",
       "      <td>Home and kitchen</td>\n",
       "      <td>Bath</td>\n",
       "    </tr>\n",
       "    <tr>\n",
       "      <th>4</th>\n",
       "      <td>51750724947</td>\n",
       "      <td>273420</td>\n",
       "      <td>2014-02-23</td>\n",
       "      <td>6</td>\n",
       "      <td>5</td>\n",
       "      <td>-2</td>\n",
       "      <td>-791</td>\n",
       "      <td>166.110</td>\n",
       "      <td>-1748.110</td>\n",
       "      <td>TeleShop</td>\n",
       "      <td>1992-07-27</td>\n",
       "      <td>M</td>\n",
       "      <td>8.0</td>\n",
       "      <td>Books</td>\n",
       "      <td>DIY</td>\n",
       "    </tr>\n",
       "    <tr>\n",
       "      <th>...</th>\n",
       "      <td>...</td>\n",
       "      <td>...</td>\n",
       "      <td>...</td>\n",
       "      <td>...</td>\n",
       "      <td>...</td>\n",
       "      <td>...</td>\n",
       "      <td>...</td>\n",
       "      <td>...</td>\n",
       "      <td>...</td>\n",
       "      <td>...</td>\n",
       "      <td>...</td>\n",
       "      <td>...</td>\n",
       "      <td>...</td>\n",
       "      <td>...</td>\n",
       "      <td>...</td>\n",
       "    </tr>\n",
       "    <tr>\n",
       "      <th>23048</th>\n",
       "      <td>94340757522</td>\n",
       "      <td>274550</td>\n",
       "      <td>2011-01-25</td>\n",
       "      <td>12</td>\n",
       "      <td>5</td>\n",
       "      <td>1</td>\n",
       "      <td>1264</td>\n",
       "      <td>132.720</td>\n",
       "      <td>1396.720</td>\n",
       "      <td>e-Shop</td>\n",
       "      <td>1972-02-21</td>\n",
       "      <td>M</td>\n",
       "      <td>7.0</td>\n",
       "      <td>Books</td>\n",
       "      <td>Academic</td>\n",
       "    </tr>\n",
       "    <tr>\n",
       "      <th>23049</th>\n",
       "      <td>89780862956</td>\n",
       "      <td>270022</td>\n",
       "      <td>2011-01-25</td>\n",
       "      <td>4</td>\n",
       "      <td>1</td>\n",
       "      <td>1</td>\n",
       "      <td>677</td>\n",
       "      <td>71.085</td>\n",
       "      <td>748.085</td>\n",
       "      <td>e-Shop</td>\n",
       "      <td>1984-04-27</td>\n",
       "      <td>M</td>\n",
       "      <td>9.0</td>\n",
       "      <td>Clothing</td>\n",
       "      <td>Mens</td>\n",
       "    </tr>\n",
       "    <tr>\n",
       "      <th>23050</th>\n",
       "      <td>85115299378</td>\n",
       "      <td>271020</td>\n",
       "      <td>2011-01-25</td>\n",
       "      <td>2</td>\n",
       "      <td>6</td>\n",
       "      <td>4</td>\n",
       "      <td>1052</td>\n",
       "      <td>441.840</td>\n",
       "      <td>4649.840</td>\n",
       "      <td>MBR</td>\n",
       "      <td>1976-06-20</td>\n",
       "      <td>M</td>\n",
       "      <td>8.0</td>\n",
       "      <td>Home and kitchen</td>\n",
       "      <td>Furnishing</td>\n",
       "    </tr>\n",
       "    <tr>\n",
       "      <th>23051</th>\n",
       "      <td>72870271171</td>\n",
       "      <td>270911</td>\n",
       "      <td>2011-01-25</td>\n",
       "      <td>11</td>\n",
       "      <td>5</td>\n",
       "      <td>3</td>\n",
       "      <td>1142</td>\n",
       "      <td>359.730</td>\n",
       "      <td>3785.730</td>\n",
       "      <td>TeleShop</td>\n",
       "      <td>1970-05-22</td>\n",
       "      <td>M</td>\n",
       "      <td>2.0</td>\n",
       "      <td>Books</td>\n",
       "      <td>Children</td>\n",
       "    </tr>\n",
       "    <tr>\n",
       "      <th>23052</th>\n",
       "      <td>77960931771</td>\n",
       "      <td>271961</td>\n",
       "      <td>2011-01-25</td>\n",
       "      <td>11</td>\n",
       "      <td>5</td>\n",
       "      <td>1</td>\n",
       "      <td>447</td>\n",
       "      <td>46.935</td>\n",
       "      <td>493.935</td>\n",
       "      <td>TeleShop</td>\n",
       "      <td>1982-01-15</td>\n",
       "      <td>M</td>\n",
       "      <td>1.0</td>\n",
       "      <td>Books</td>\n",
       "      <td>Children</td>\n",
       "    </tr>\n",
       "  </tbody>\n",
       "</table>\n",
       "<p>23053 rows × 15 columns</p>\n",
       "</div>"
      ],
      "text/plain": [
       "       transaction_id  customer_Id  tran_date  prod_sub_cat_code  \\\n",
       "0         80712190438       270351 2014-02-28                  1   \n",
       "1         29258453508       270384 2014-02-27                  5   \n",
       "2         51750724947       273420 2014-02-24                  6   \n",
       "3         93274880719       271509 2014-02-24                 11   \n",
       "4         51750724947       273420 2014-02-23                  6   \n",
       "...               ...          ...        ...                ...   \n",
       "23048     94340757522       274550 2011-01-25                 12   \n",
       "23049     89780862956       270022 2011-01-25                  4   \n",
       "23050     85115299378       271020 2011-01-25                  2   \n",
       "23051     72870271171       270911 2011-01-25                 11   \n",
       "23052     77960931771       271961 2011-01-25                 11   \n",
       "\n",
       "       prod_cat_code  Qty  Rate      Tax  total_amt Store_type        DOB  \\\n",
       "0                  1   -5  -772  405.300  -4265.300     e-Shop 1981-09-26   \n",
       "1                  3   -5 -1497  785.925  -8270.925     e-Shop 1973-11-05   \n",
       "2                  5   -2  -791  166.110  -1748.110   TeleShop 1992-07-27   \n",
       "3                  6   -3 -1363  429.345  -4518.345     e-Shop 1981-08-06   \n",
       "4                  5   -2  -791  166.110  -1748.110   TeleShop 1992-07-27   \n",
       "...              ...  ...   ...      ...        ...        ...        ...   \n",
       "23048              5    1  1264  132.720   1396.720     e-Shop 1972-02-21   \n",
       "23049              1    1   677   71.085    748.085     e-Shop 1984-04-27   \n",
       "23050              6    4  1052  441.840   4649.840        MBR 1976-06-20   \n",
       "23051              5    3  1142  359.730   3785.730   TeleShop 1970-05-22   \n",
       "23052              5    1   447   46.935    493.935   TeleShop 1982-01-15   \n",
       "\n",
       "      Gender  city_code          prod_cat prod_subcat  \n",
       "0          M        5.0          Clothing       Women  \n",
       "1          F        8.0       Electronics   Computers  \n",
       "2          M        8.0             Books         DIY  \n",
       "3          M        3.0  Home and kitchen        Bath  \n",
       "4          M        8.0             Books         DIY  \n",
       "...      ...        ...               ...         ...  \n",
       "23048      M        7.0             Books    Academic  \n",
       "23049      M        9.0          Clothing        Mens  \n",
       "23050      M        8.0  Home and kitchen  Furnishing  \n",
       "23051      M        2.0             Books    Children  \n",
       "23052      M        1.0             Books    Children  \n",
       "\n",
       "[23053 rows x 15 columns]"
      ]
     },
     "execution_count": 19,
     "metadata": {},
     "output_type": "execute_result"
    }
   ],
   "source": [
    "customers_final"
   ]
  },
  {
   "cell_type": "code",
   "execution_count": 113,
   "id": "d044c8fb-39c1-4ebf-b4fa-b4be49cb677e",
   "metadata": {},
   "outputs": [
    {
     "data": {
      "text/plain": [
       "(23053, 10)"
      ]
     },
     "execution_count": 113,
     "metadata": {},
     "output_type": "execute_result"
    }
   ],
   "source": [
    "transactions.shape"
   ]
  },
  {
   "cell_type": "code",
   "execution_count": 115,
   "id": "8292ed86-7cf2-47b3-9345-e4d2673d6690",
   "metadata": {},
   "outputs": [
    {
     "data": {
      "text/plain": [
       "transaction_id                int64\n",
       "customer_Id                   int64\n",
       "tran_date            datetime64[ns]\n",
       "prod_sub_cat_code             int64\n",
       "prod_cat_code                 int64\n",
       "Qty                           int64\n",
       "Rate                          int64\n",
       "Tax                         float64\n",
       "total_amt                   float64\n",
       "Store_type                   object\n",
       "DOB                  datetime64[ns]\n",
       "Gender                       object\n",
       "city_code                   float64\n",
       "prod_cat                     object\n",
       "prod_subcat                  object\n",
       "dtype: object"
      ]
     },
     "execution_count": 115,
     "metadata": {},
     "output_type": "execute_result"
    }
   ],
   "source": [
    "customers_final.dtypes"
   ]
  },
  {
   "cell_type": "code",
   "execution_count": 119,
   "id": "ee3721b8-d48e-4010-94d4-bf686e147241",
   "metadata": {},
   "outputs": [
    {
     "data": {
      "text/html": [
       "<div>\n",
       "<style scoped>\n",
       "    .dataframe tbody tr th:only-of-type {\n",
       "        vertical-align: middle;\n",
       "    }\n",
       "\n",
       "    .dataframe tbody tr th {\n",
       "        vertical-align: top;\n",
       "    }\n",
       "\n",
       "    .dataframe thead th {\n",
       "        text-align: right;\n",
       "    }\n",
       "</style>\n",
       "<table border=\"1\" class=\"dataframe\">\n",
       "  <thead>\n",
       "    <tr style=\"text-align: right;\">\n",
       "      <th></th>\n",
       "      <th>transaction_id</th>\n",
       "      <th>customer_Id</th>\n",
       "      <th>tran_date</th>\n",
       "      <th>prod_sub_cat_code</th>\n",
       "      <th>prod_cat_code</th>\n",
       "      <th>Qty</th>\n",
       "      <th>Rate</th>\n",
       "      <th>Tax</th>\n",
       "      <th>total_amt</th>\n",
       "      <th>Store_type</th>\n",
       "      <th>DOB</th>\n",
       "      <th>Gender</th>\n",
       "      <th>city_code</th>\n",
       "      <th>prod_cat</th>\n",
       "      <th>prod_subcat</th>\n",
       "    </tr>\n",
       "  </thead>\n",
       "  <tbody>\n",
       "    <tr>\n",
       "      <th>0</th>\n",
       "      <td>80712190438</td>\n",
       "      <td>270351</td>\n",
       "      <td>2014-02-28</td>\n",
       "      <td>1</td>\n",
       "      <td>1</td>\n",
       "      <td>-5</td>\n",
       "      <td>-772</td>\n",
       "      <td>405.300</td>\n",
       "      <td>-4265.300</td>\n",
       "      <td>e-Shop</td>\n",
       "      <td>1981-09-26</td>\n",
       "      <td>M</td>\n",
       "      <td>5.0</td>\n",
       "      <td>Clothing</td>\n",
       "      <td>Women</td>\n",
       "    </tr>\n",
       "    <tr>\n",
       "      <th>1</th>\n",
       "      <td>29258453508</td>\n",
       "      <td>270384</td>\n",
       "      <td>2014-02-27</td>\n",
       "      <td>5</td>\n",
       "      <td>3</td>\n",
       "      <td>-5</td>\n",
       "      <td>-1497</td>\n",
       "      <td>785.925</td>\n",
       "      <td>-8270.925</td>\n",
       "      <td>e-Shop</td>\n",
       "      <td>1973-11-05</td>\n",
       "      <td>F</td>\n",
       "      <td>8.0</td>\n",
       "      <td>Electronics</td>\n",
       "      <td>Computers</td>\n",
       "    </tr>\n",
       "    <tr>\n",
       "      <th>2</th>\n",
       "      <td>51750724947</td>\n",
       "      <td>273420</td>\n",
       "      <td>2014-02-24</td>\n",
       "      <td>6</td>\n",
       "      <td>5</td>\n",
       "      <td>-2</td>\n",
       "      <td>-791</td>\n",
       "      <td>166.110</td>\n",
       "      <td>-1748.110</td>\n",
       "      <td>TeleShop</td>\n",
       "      <td>1992-07-27</td>\n",
       "      <td>M</td>\n",
       "      <td>8.0</td>\n",
       "      <td>Books</td>\n",
       "      <td>DIY</td>\n",
       "    </tr>\n",
       "    <tr>\n",
       "      <th>3</th>\n",
       "      <td>93274880719</td>\n",
       "      <td>271509</td>\n",
       "      <td>2014-02-24</td>\n",
       "      <td>11</td>\n",
       "      <td>6</td>\n",
       "      <td>-3</td>\n",
       "      <td>-1363</td>\n",
       "      <td>429.345</td>\n",
       "      <td>-4518.345</td>\n",
       "      <td>e-Shop</td>\n",
       "      <td>1981-08-06</td>\n",
       "      <td>M</td>\n",
       "      <td>3.0</td>\n",
       "      <td>Home and kitchen</td>\n",
       "      <td>Bath</td>\n",
       "    </tr>\n",
       "    <tr>\n",
       "      <th>4</th>\n",
       "      <td>51750724947</td>\n",
       "      <td>273420</td>\n",
       "      <td>2014-02-23</td>\n",
       "      <td>6</td>\n",
       "      <td>5</td>\n",
       "      <td>-2</td>\n",
       "      <td>-791</td>\n",
       "      <td>166.110</td>\n",
       "      <td>-1748.110</td>\n",
       "      <td>TeleShop</td>\n",
       "      <td>1992-07-27</td>\n",
       "      <td>M</td>\n",
       "      <td>8.0</td>\n",
       "      <td>Books</td>\n",
       "      <td>DIY</td>\n",
       "    </tr>\n",
       "  </tbody>\n",
       "</table>\n",
       "</div>"
      ],
      "text/plain": [
       "   transaction_id  customer_Id  tran_date  prod_sub_cat_code  prod_cat_code  \\\n",
       "0     80712190438       270351 2014-02-28                  1              1   \n",
       "1     29258453508       270384 2014-02-27                  5              3   \n",
       "2     51750724947       273420 2014-02-24                  6              5   \n",
       "3     93274880719       271509 2014-02-24                 11              6   \n",
       "4     51750724947       273420 2014-02-23                  6              5   \n",
       "\n",
       "   Qty  Rate      Tax  total_amt Store_type        DOB Gender  city_code  \\\n",
       "0   -5  -772  405.300  -4265.300     e-Shop 1981-09-26      M        5.0   \n",
       "1   -5 -1497  785.925  -8270.925     e-Shop 1973-11-05      F        8.0   \n",
       "2   -2  -791  166.110  -1748.110   TeleShop 1992-07-27      M        8.0   \n",
       "3   -3 -1363  429.345  -4518.345     e-Shop 1981-08-06      M        3.0   \n",
       "4   -2  -791  166.110  -1748.110   TeleShop 1992-07-27      M        8.0   \n",
       "\n",
       "           prod_cat prod_subcat  \n",
       "0          Clothing       Women  \n",
       "1       Electronics   Computers  \n",
       "2             Books         DIY  \n",
       "3  Home and kitchen        Bath  \n",
       "4             Books         DIY  "
      ]
     },
     "execution_count": 119,
     "metadata": {},
     "output_type": "execute_result"
    }
   ],
   "source": [
    "customers_final.head()"
   ]
  },
  {
   "cell_type": "code",
   "execution_count": 117,
   "id": "b9d45575-2841-46cd-8b8b-198e44e401af",
   "metadata": {},
   "outputs": [
    {
     "data": {
      "text/html": [
       "<div>\n",
       "<style scoped>\n",
       "    .dataframe tbody tr th:only-of-type {\n",
       "        vertical-align: middle;\n",
       "    }\n",
       "\n",
       "    .dataframe tbody tr th {\n",
       "        vertical-align: top;\n",
       "    }\n",
       "\n",
       "    .dataframe thead th {\n",
       "        text-align: right;\n",
       "    }\n",
       "</style>\n",
       "<table border=\"1\" class=\"dataframe\">\n",
       "  <thead>\n",
       "    <tr style=\"text-align: right;\">\n",
       "      <th></th>\n",
       "      <th>transaction_id</th>\n",
       "      <th>customer_Id</th>\n",
       "      <th>tran_date</th>\n",
       "      <th>prod_sub_cat_code</th>\n",
       "      <th>prod_cat_code</th>\n",
       "      <th>Qty</th>\n",
       "      <th>Rate</th>\n",
       "      <th>Tax</th>\n",
       "      <th>total_amt</th>\n",
       "      <th>Store_type</th>\n",
       "      <th>DOB</th>\n",
       "      <th>Gender</th>\n",
       "      <th>city_code</th>\n",
       "      <th>prod_cat</th>\n",
       "      <th>prod_subcat</th>\n",
       "    </tr>\n",
       "  </thead>\n",
       "  <tbody>\n",
       "    <tr>\n",
       "      <th>23048</th>\n",
       "      <td>94340757522</td>\n",
       "      <td>274550</td>\n",
       "      <td>2011-01-25</td>\n",
       "      <td>12</td>\n",
       "      <td>5</td>\n",
       "      <td>1</td>\n",
       "      <td>1264</td>\n",
       "      <td>132.720</td>\n",
       "      <td>1396.720</td>\n",
       "      <td>e-Shop</td>\n",
       "      <td>1972-02-21</td>\n",
       "      <td>M</td>\n",
       "      <td>7.0</td>\n",
       "      <td>Books</td>\n",
       "      <td>Academic</td>\n",
       "    </tr>\n",
       "    <tr>\n",
       "      <th>23049</th>\n",
       "      <td>89780862956</td>\n",
       "      <td>270022</td>\n",
       "      <td>2011-01-25</td>\n",
       "      <td>4</td>\n",
       "      <td>1</td>\n",
       "      <td>1</td>\n",
       "      <td>677</td>\n",
       "      <td>71.085</td>\n",
       "      <td>748.085</td>\n",
       "      <td>e-Shop</td>\n",
       "      <td>1984-04-27</td>\n",
       "      <td>M</td>\n",
       "      <td>9.0</td>\n",
       "      <td>Clothing</td>\n",
       "      <td>Mens</td>\n",
       "    </tr>\n",
       "    <tr>\n",
       "      <th>23050</th>\n",
       "      <td>85115299378</td>\n",
       "      <td>271020</td>\n",
       "      <td>2011-01-25</td>\n",
       "      <td>2</td>\n",
       "      <td>6</td>\n",
       "      <td>4</td>\n",
       "      <td>1052</td>\n",
       "      <td>441.840</td>\n",
       "      <td>4649.840</td>\n",
       "      <td>MBR</td>\n",
       "      <td>1976-06-20</td>\n",
       "      <td>M</td>\n",
       "      <td>8.0</td>\n",
       "      <td>Home and kitchen</td>\n",
       "      <td>Furnishing</td>\n",
       "    </tr>\n",
       "    <tr>\n",
       "      <th>23051</th>\n",
       "      <td>72870271171</td>\n",
       "      <td>270911</td>\n",
       "      <td>2011-01-25</td>\n",
       "      <td>11</td>\n",
       "      <td>5</td>\n",
       "      <td>3</td>\n",
       "      <td>1142</td>\n",
       "      <td>359.730</td>\n",
       "      <td>3785.730</td>\n",
       "      <td>TeleShop</td>\n",
       "      <td>1970-05-22</td>\n",
       "      <td>M</td>\n",
       "      <td>2.0</td>\n",
       "      <td>Books</td>\n",
       "      <td>Children</td>\n",
       "    </tr>\n",
       "    <tr>\n",
       "      <th>23052</th>\n",
       "      <td>77960931771</td>\n",
       "      <td>271961</td>\n",
       "      <td>2011-01-25</td>\n",
       "      <td>11</td>\n",
       "      <td>5</td>\n",
       "      <td>1</td>\n",
       "      <td>447</td>\n",
       "      <td>46.935</td>\n",
       "      <td>493.935</td>\n",
       "      <td>TeleShop</td>\n",
       "      <td>1982-01-15</td>\n",
       "      <td>M</td>\n",
       "      <td>1.0</td>\n",
       "      <td>Books</td>\n",
       "      <td>Children</td>\n",
       "    </tr>\n",
       "  </tbody>\n",
       "</table>\n",
       "</div>"
      ],
      "text/plain": [
       "       transaction_id  customer_Id  tran_date  prod_sub_cat_code  \\\n",
       "23048     94340757522       274550 2011-01-25                 12   \n",
       "23049     89780862956       270022 2011-01-25                  4   \n",
       "23050     85115299378       271020 2011-01-25                  2   \n",
       "23051     72870271171       270911 2011-01-25                 11   \n",
       "23052     77960931771       271961 2011-01-25                 11   \n",
       "\n",
       "       prod_cat_code  Qty  Rate      Tax  total_amt Store_type        DOB  \\\n",
       "23048              5    1  1264  132.720   1396.720     e-Shop 1972-02-21   \n",
       "23049              1    1   677   71.085    748.085     e-Shop 1984-04-27   \n",
       "23050              6    4  1052  441.840   4649.840        MBR 1976-06-20   \n",
       "23051              5    3  1142  359.730   3785.730   TeleShop 1970-05-22   \n",
       "23052              5    1   447   46.935    493.935   TeleShop 1982-01-15   \n",
       "\n",
       "      Gender  city_code          prod_cat prod_subcat  \n",
       "23048      M        7.0             Books    Academic  \n",
       "23049      M        9.0          Clothing        Mens  \n",
       "23050      M        8.0  Home and kitchen  Furnishing  \n",
       "23051      M        2.0             Books    Children  \n",
       "23052      M        1.0             Books    Children  "
      ]
     },
     "execution_count": 117,
     "metadata": {},
     "output_type": "execute_result"
    }
   ],
   "source": [
    "customers_final.tail()"
   ]
  },
  {
   "cell_type": "code",
   "execution_count": 20,
   "id": "3da1bc33-defc-4b20-974c-9f066d886360",
   "metadata": {},
   "outputs": [],
   "source": [
    "customers_final_continuous = customers_final.select_dtypes(include = 'number')"
   ]
  },
  {
   "cell_type": "code",
   "execution_count": 21,
   "id": "127ee56d-bddb-4060-963f-b31f4dc80fed",
   "metadata": {},
   "outputs": [],
   "source": [
    "customers_final_categorical = customers_final.select_dtypes(include = 'object')"
   ]
  },
  {
   "cell_type": "code",
   "execution_count": 22,
   "id": "43f817fb-b179-4fcd-b466-2b63a33cafc4",
   "metadata": {},
   "outputs": [],
   "source": [
    "customers_final_continuous.drop(columns = ['transaction_id', 'customer_Id', 'prod_sub_cat_code','prod_cat_code','city_code'], inplace = True)"
   ]
  },
  {
   "cell_type": "code",
   "execution_count": 128,
   "id": "7e6467f7-0abf-43df-a723-b536d7ce04fd",
   "metadata": {},
   "outputs": [
    {
     "data": {
      "text/plain": [
       "<bound method DataFrame.info of       Store_type Gender          prod_cat prod_subcat\n",
       "0         e-Shop      M          Clothing       Women\n",
       "1         e-Shop      F       Electronics   Computers\n",
       "2       TeleShop      M             Books         DIY\n",
       "3         e-Shop      M  Home and kitchen        Bath\n",
       "4       TeleShop      M             Books         DIY\n",
       "...          ...    ...               ...         ...\n",
       "23048     e-Shop      M             Books    Academic\n",
       "23049     e-Shop      M          Clothing        Mens\n",
       "23050        MBR      M  Home and kitchen  Furnishing\n",
       "23051   TeleShop      M             Books    Children\n",
       "23052   TeleShop      M             Books    Children\n",
       "\n",
       "[23053 rows x 4 columns]>"
      ]
     },
     "execution_count": 128,
     "metadata": {},
     "output_type": "execute_result"
    }
   ],
   "source": [
    "customers_final_categorical.info"
   ]
  },
  {
   "cell_type": "code",
   "execution_count": 137,
   "id": "826747ae-8c6a-4e50-80e7-5061b2797842",
   "metadata": {},
   "outputs": [
    {
     "data": {
      "text/html": [
       "<div>\n",
       "<style scoped>\n",
       "    .dataframe tbody tr th:only-of-type {\n",
       "        vertical-align: middle;\n",
       "    }\n",
       "\n",
       "    .dataframe tbody tr th {\n",
       "        vertical-align: top;\n",
       "    }\n",
       "\n",
       "    .dataframe thead th {\n",
       "        text-align: right;\n",
       "    }\n",
       "</style>\n",
       "<table border=\"1\" class=\"dataframe\">\n",
       "  <thead>\n",
       "    <tr style=\"text-align: right;\">\n",
       "      <th></th>\n",
       "      <th>Qty</th>\n",
       "      <th>Rate</th>\n",
       "      <th>Tax</th>\n",
       "      <th>total_amt</th>\n",
       "    </tr>\n",
       "  </thead>\n",
       "  <tbody>\n",
       "    <tr>\n",
       "      <th>count</th>\n",
       "      <td>23053.000000</td>\n",
       "      <td>23053.000000</td>\n",
       "      <td>23053.000000</td>\n",
       "      <td>23053.000000</td>\n",
       "    </tr>\n",
       "    <tr>\n",
       "      <th>mean</th>\n",
       "      <td>2.432395</td>\n",
       "      <td>636.369713</td>\n",
       "      <td>248.667192</td>\n",
       "      <td>2107.308002</td>\n",
       "    </tr>\n",
       "    <tr>\n",
       "      <th>std</th>\n",
       "      <td>2.268406</td>\n",
       "      <td>622.363498</td>\n",
       "      <td>187.177773</td>\n",
       "      <td>2507.561264</td>\n",
       "    </tr>\n",
       "    <tr>\n",
       "      <th>min</th>\n",
       "      <td>-5.000000</td>\n",
       "      <td>-1499.000000</td>\n",
       "      <td>7.350000</td>\n",
       "      <td>-8270.925000</td>\n",
       "    </tr>\n",
       "    <tr>\n",
       "      <th>25%</th>\n",
       "      <td>1.000000</td>\n",
       "      <td>312.000000</td>\n",
       "      <td>98.280000</td>\n",
       "      <td>762.450000</td>\n",
       "    </tr>\n",
       "    <tr>\n",
       "      <th>50%</th>\n",
       "      <td>3.000000</td>\n",
       "      <td>710.000000</td>\n",
       "      <td>199.080000</td>\n",
       "      <td>1754.740000</td>\n",
       "    </tr>\n",
       "    <tr>\n",
       "      <th>75%</th>\n",
       "      <td>4.000000</td>\n",
       "      <td>1109.000000</td>\n",
       "      <td>365.715000</td>\n",
       "      <td>3569.150000</td>\n",
       "    </tr>\n",
       "    <tr>\n",
       "      <th>max</th>\n",
       "      <td>5.000000</td>\n",
       "      <td>1500.000000</td>\n",
       "      <td>787.500000</td>\n",
       "      <td>8287.500000</td>\n",
       "    </tr>\n",
       "  </tbody>\n",
       "</table>\n",
       "</div>"
      ],
      "text/plain": [
       "                Qty          Rate           Tax     total_amt\n",
       "count  23053.000000  23053.000000  23053.000000  23053.000000\n",
       "mean       2.432395    636.369713    248.667192   2107.308002\n",
       "std        2.268406    622.363498    187.177773   2507.561264\n",
       "min       -5.000000  -1499.000000      7.350000  -8270.925000\n",
       "25%        1.000000    312.000000     98.280000    762.450000\n",
       "50%        3.000000    710.000000    199.080000   1754.740000\n",
       "75%        4.000000   1109.000000    365.715000   3569.150000\n",
       "max        5.000000   1500.000000    787.500000   8287.500000"
      ]
     },
     "execution_count": 137,
     "metadata": {},
     "output_type": "execute_result"
    }
   ],
   "source": [
    "customers_final_continuous.describe()"
   ]
  },
  {
   "cell_type": "code",
   "execution_count": 152,
   "id": "d9f1779f-d1bf-41f5-9e66-cd0edf650a1a",
   "metadata": {},
   "outputs": [
    {
     "name": "stdout",
     "output_type": "stream",
     "text": [
      "Store_type\n",
      "e-Shop            9311\n",
      "MBR               4661\n",
      "Flagship store    4577\n",
      "TeleShop          4504\n",
      "Name: count, dtype: int64\n",
      "\n",
      "\n",
      "Gender\n",
      "M    11811\n",
      "F    11233\n",
      "Name: count, dtype: int64\n",
      "\n",
      "\n",
      "prod_cat\n",
      "Books               6069\n",
      "Electronics         4898\n",
      "Home and kitchen    4129\n",
      "Footwear            2999\n",
      "Clothing            2960\n",
      "Bags                1998\n",
      "Name: count, dtype: int64\n",
      "\n",
      "\n",
      "prod_subcat\n",
      "Women                  3048\n",
      "Mens                   2912\n",
      "Kids                   1997\n",
      "Tools                  1062\n",
      "Fiction                1043\n",
      "Kitchen                1037\n",
      "Children               1035\n",
      "Mobiles                1031\n",
      "Comics                 1031\n",
      "Bath                   1023\n",
      "Furnishing             1007\n",
      "Non-Fiction            1004\n",
      "DIY                     989\n",
      "Cameras                 985\n",
      "Personal Appliances     972\n",
      "Academic                967\n",
      "Computers               958\n",
      "Audio and video         952\n",
      "Name: count, dtype: int64\n",
      "\n",
      "\n"
     ]
    }
   ],
   "source": [
    "for col in customers_final_categorical:\n",
    "    print(customers_final_categorical[col].value_counts())\n",
    "    print(\"\\n\")"
   ]
  },
  {
   "cell_type": "code",
   "execution_count": 39,
   "id": "62cc3a02-e5bb-4178-b0ab-af2dac36ae00",
   "metadata": {},
   "outputs": [
    {
     "data": {
      "text/plain": [
       "2551"
      ]
     },
     "execution_count": 39,
     "metadata": {},
     "output_type": "execute_result"
    }
   ],
   "source": [
    "customers_continuous['Rate'].nunique()"
   ]
  },
  {
   "cell_type": "code",
   "execution_count": 40,
   "id": "af700078-81c2-4359-8899-0aa177bcbaf6",
   "metadata": {},
   "outputs": [
    {
     "data": {
      "text/plain": [
       "(array([-2000., -1500., -1000.,  -500.,     0.,   500.,  1000.,  1500.,\n",
       "         2000.]),\n",
       " [Text(-2000.0, 0, '−2000'),\n",
       "  Text(-1500.0, 0, '−1500'),\n",
       "  Text(-1000.0, 0, '−1000'),\n",
       "  Text(-500.0, 0, '−500'),\n",
       "  Text(0.0, 0, '0'),\n",
       "  Text(500.0, 0, '500'),\n",
       "  Text(1000.0, 0, '1000'),\n",
       "  Text(1500.0, 0, '1500'),\n",
       "  Text(2000.0, 0, '2000')])"
      ]
     },
     "execution_count": 40,
     "metadata": {},
     "output_type": "execute_result"
    },
    {
     "data": {
      "image/png": "[encoded data removed]",
      "text/plain": [
       "<Figure size 640x480 with 1 Axes>"
      ]
     },
     "metadata": {},
     "output_type": "display_data"
    }
   ],
   "source": [
    "plt.hist(customers_continuous['Rate'], bins = 20, edgecolor = 'black')\n",
    "plt.grid(True)\n",
    "plt.xticks()"
   ]
  },
  {
   "cell_type": "code",
   "execution_count": 43,
   "id": "99d581d1-e55b-44d8-b3bb-86df5c148d41",
   "metadata": {},
   "outputs": [
    {
     "data": {
      "text/plain": [
       "([<matplotlib.axis.XTick at 0x2236b1b5790>,\n",
       "  <matplotlib.axis.XTick at 0x2236b1b5580>,\n",
       "  <matplotlib.axis.XTick at 0x2236b0ab470>,\n",
       "  <matplotlib.axis.XTick at 0x2236b09bb00>,\n",
       "  <matplotlib.axis.XTick at 0x2236b1ea7b0>,\n",
       "  <matplotlib.axis.XTick at 0x2236b1eaf90>,\n",
       "  <matplotlib.axis.XTick at 0x2236b1eb6b0>,\n",
       "  <matplotlib.axis.XTick at 0x2236b1eaf00>,\n",
       "  <matplotlib.axis.XTick at 0x2236b1eb410>,\n",
       "  <matplotlib.axis.XTick at 0x2236b1eb020>],\n",
       " [Text(-5, 0, '−5'),\n",
       "  Text(-2, 0, '−2'),\n",
       "  Text(-3, 0, '−3'),\n",
       "  Text(-1, 0, '−1'),\n",
       "  Text(-4, 0, '−4'),\n",
       "  Text(5, 0, '5'),\n",
       "  Text(3, 0, '3'),\n",
       "  Text(4, 0, '4'),\n",
       "  Text(1, 0, '1'),\n",
       "  Text(2, 0, '2')])"
      ]
     },
     "execution_count": 43,
     "metadata": {},
     "output_type": "execute_result"
    },
    {
     "data": {
      "image/png": "[encoded data removed]",
      "text/plain": [
       "<Figure size 640x480 with 1 Axes>"
      ]
     },
     "metadata": {},
     "output_type": "display_data"
    }
   ],
   "source": [
    "plt.hist(customers_continuous['Qty'], bins = 10, edgecolor = 'black')\n",
    "plt.grid(True)\n",
    "plt.xticks(customers_continuous['Qty'].unique())"
   ]
  },
  {
   "cell_type": "code",
   "execution_count": 41,
   "id": "f63fc79a-fbef-467b-946d-08c0efe00b19",
   "metadata": {},
   "outputs": [
    {
     "data": {
      "text/plain": [
       "4194"
      ]
     },
     "execution_count": 41,
     "metadata": {},
     "output_type": "execute_result"
    }
   ],
   "source": [
    "customers_continuous['Tax'].nunique()"
   ]
  },
  {
   "cell_type": "code",
   "execution_count": 42,
   "id": "2824512e-aa4d-4d73-ad49-17ae6c240a24",
   "metadata": {},
   "outputs": [
    {
     "data": {
      "text/plain": [
       "(array([-100.,    0.,  100.,  200.,  300.,  400.,  500.,  600.,  700.,\n",
       "         800.,  900.]),\n",
       " [Text(-100.0, 0, '−100'),\n",
       "  Text(0.0, 0, '0'),\n",
       "  Text(100.0, 0, '100'),\n",
       "  Text(200.0, 0, '200'),\n",
       "  Text(300.0, 0, '300'),\n",
       "  Text(400.0, 0, '400'),\n",
       "  Text(500.0, 0, '500'),\n",
       "  Text(600.0, 0, '600'),\n",
       "  Text(700.0, 0, '700'),\n",
       "  Text(800.0, 0, '800'),\n",
       "  Text(900.0, 0, '900')])"
      ]
     },
     "execution_count": 42,
     "metadata": {},
     "output_type": "execute_result"
    },
    {
     "data": {
      "image/png": "[encoded data removed]",
      "text/plain": [
       "<Figure size 640x480 with 1 Axes>"
      ]
     },
     "metadata": {},
     "output_type": "display_data"
    }
   ],
   "source": [
    "plt.hist(customers_continuous['Tax'], bins = 20, edgecolor = 'black')\n",
    "plt.grid(True)\n",
    "plt.xticks()"
   ]
  },
  {
   "cell_type": "code",
   "execution_count": 44,
   "id": "acf57add-63fb-453c-8811-8be653b18ea1",
   "metadata": {},
   "outputs": [
    {
     "data": {
      "text/plain": [
       "(array([-10000.,  -7500.,  -5000.,  -2500.,      0.,   2500.,   5000.,\n",
       "          7500.,  10000.]),\n",
       " [Text(-10000.0, 0, '−10000'),\n",
       "  Text(-7500.0, 0, '−7500'),\n",
       "  Text(-5000.0, 0, '−5000'),\n",
       "  Text(-2500.0, 0, '−2500'),\n",
       "  Text(0.0, 0, '0'),\n",
       "  Text(2500.0, 0, '2500'),\n",
       "  Text(5000.0, 0, '5000'),\n",
       "  Text(7500.0, 0, '7500'),\n",
       "  Text(10000.0, 0, '10000')])"
      ]
     },
     "execution_count": 44,
     "metadata": {},
     "output_type": "execute_result"
    },
    {
     "data": {
      "image/png": "[encoded data removed]",
      "text/plain": [
       "<Figure size 640x480 with 1 Axes>"
      ]
     },
     "metadata": {},
     "output_type": "display_data"
    }
   ],
   "source": [
    "plt.hist(customers_continuous['total_amt'], bins = 20, edgecolor = 'black')\n",
    "plt.grid(True)\n",
    "plt.xticks()"
   ]
  },
  {
   "cell_type": "code",
   "execution_count": 25,
   "id": "0c6765ac-419b-40c3-ad28-58fc53f319cb",
   "metadata": {},
   "outputs": [
    {
     "data": {
      "text/html": [
       "<div>\n",
       "<style scoped>\n",
       "    .dataframe tbody tr th:only-of-type {\n",
       "        vertical-align: middle;\n",
       "    }\n",
       "\n",
       "    .dataframe tbody tr th {\n",
       "        vertical-align: top;\n",
       "    }\n",
       "\n",
       "    .dataframe thead th {\n",
       "        text-align: right;\n",
       "    }\n",
       "</style>\n",
       "<table border=\"1\" class=\"dataframe\">\n",
       "  <thead>\n",
       "    <tr style=\"text-align: right;\">\n",
       "      <th></th>\n",
       "      <th>Qty</th>\n",
       "      <th>Rate</th>\n",
       "      <th>Tax</th>\n",
       "      <th>total_amt</th>\n",
       "    </tr>\n",
       "  </thead>\n",
       "  <tbody>\n",
       "    <tr>\n",
       "      <th>0</th>\n",
       "      <td>-5</td>\n",
       "      <td>-772</td>\n",
       "      <td>405.300</td>\n",
       "      <td>-4265.300</td>\n",
       "    </tr>\n",
       "    <tr>\n",
       "      <th>1</th>\n",
       "      <td>-5</td>\n",
       "      <td>-1497</td>\n",
       "      <td>785.925</td>\n",
       "      <td>-8270.925</td>\n",
       "    </tr>\n",
       "    <tr>\n",
       "      <th>2</th>\n",
       "      <td>-2</td>\n",
       "      <td>-791</td>\n",
       "      <td>166.110</td>\n",
       "      <td>-1748.110</td>\n",
       "    </tr>\n",
       "    <tr>\n",
       "      <th>3</th>\n",
       "      <td>-3</td>\n",
       "      <td>-1363</td>\n",
       "      <td>429.345</td>\n",
       "      <td>-4518.345</td>\n",
       "    </tr>\n",
       "    <tr>\n",
       "      <th>4</th>\n",
       "      <td>-2</td>\n",
       "      <td>-791</td>\n",
       "      <td>166.110</td>\n",
       "      <td>-1748.110</td>\n",
       "    </tr>\n",
       "    <tr>\n",
       "      <th>...</th>\n",
       "      <td>...</td>\n",
       "      <td>...</td>\n",
       "      <td>...</td>\n",
       "      <td>...</td>\n",
       "    </tr>\n",
       "    <tr>\n",
       "      <th>23048</th>\n",
       "      <td>1</td>\n",
       "      <td>1264</td>\n",
       "      <td>132.720</td>\n",
       "      <td>1396.720</td>\n",
       "    </tr>\n",
       "    <tr>\n",
       "      <th>23049</th>\n",
       "      <td>1</td>\n",
       "      <td>677</td>\n",
       "      <td>71.085</td>\n",
       "      <td>748.085</td>\n",
       "    </tr>\n",
       "    <tr>\n",
       "      <th>23050</th>\n",
       "      <td>4</td>\n",
       "      <td>1052</td>\n",
       "      <td>441.840</td>\n",
       "      <td>4649.840</td>\n",
       "    </tr>\n",
       "    <tr>\n",
       "      <th>23051</th>\n",
       "      <td>3</td>\n",
       "      <td>1142</td>\n",
       "      <td>359.730</td>\n",
       "      <td>3785.730</td>\n",
       "    </tr>\n",
       "    <tr>\n",
       "      <th>23052</th>\n",
       "      <td>1</td>\n",
       "      <td>447</td>\n",
       "      <td>46.935</td>\n",
       "      <td>493.935</td>\n",
       "    </tr>\n",
       "  </tbody>\n",
       "</table>\n",
       "<p>23053 rows × 4 columns</p>\n",
       "</div>"
      ],
      "text/plain": [
       "       Qty  Rate      Tax  total_amt\n",
       "0       -5  -772  405.300  -4265.300\n",
       "1       -5 -1497  785.925  -8270.925\n",
       "2       -2  -791  166.110  -1748.110\n",
       "3       -3 -1363  429.345  -4518.345\n",
       "4       -2  -791  166.110  -1748.110\n",
       "...    ...   ...      ...        ...\n",
       "23048    1  1264  132.720   1396.720\n",
       "23049    1   677   71.085    748.085\n",
       "23050    4  1052  441.840   4649.840\n",
       "23051    3  1142  359.730   3785.730\n",
       "23052    1   447   46.935    493.935\n",
       "\n",
       "[23053 rows x 4 columns]"
      ]
     },
     "execution_count": 25,
     "metadata": {},
     "output_type": "execute_result"
    }
   ],
   "source": [
    "customers_continuous"
   ]
  },
  {
   "cell_type": "code",
   "execution_count": 47,
   "id": "4f380268-37f9-4d56-af27-839a8084a2e1",
   "metadata": {},
   "outputs": [],
   "source": [
    "customers_categorical =  customers_final_categorical"
   ]
  },
  {
   "cell_type": "code",
   "execution_count": 48,
   "id": "e8be1068-fb1b-4b75-98af-fabee96ca7c8",
   "metadata": {},
   "outputs": [
    {
     "data": {
      "text/html": [
       "<div>\n",
       "<style scoped>\n",
       "    .dataframe tbody tr th:only-of-type {\n",
       "        vertical-align: middle;\n",
       "    }\n",
       "\n",
       "    .dataframe tbody tr th {\n",
       "        vertical-align: top;\n",
       "    }\n",
       "\n",
       "    .dataframe thead th {\n",
       "        text-align: right;\n",
       "    }\n",
       "</style>\n",
       "<table border=\"1\" class=\"dataframe\">\n",
       "  <thead>\n",
       "    <tr style=\"text-align: right;\">\n",
       "      <th></th>\n",
       "      <th>Store_type</th>\n",
       "      <th>Gender</th>\n",
       "      <th>prod_cat</th>\n",
       "      <th>prod_subcat</th>\n",
       "    </tr>\n",
       "  </thead>\n",
       "  <tbody>\n",
       "    <tr>\n",
       "      <th>0</th>\n",
       "      <td>e-Shop</td>\n",
       "      <td>M</td>\n",
       "      <td>Clothing</td>\n",
       "      <td>Women</td>\n",
       "    </tr>\n",
       "    <tr>\n",
       "      <th>1</th>\n",
       "      <td>e-Shop</td>\n",
       "      <td>F</td>\n",
       "      <td>Electronics</td>\n",
       "      <td>Computers</td>\n",
       "    </tr>\n",
       "    <tr>\n",
       "      <th>2</th>\n",
       "      <td>TeleShop</td>\n",
       "      <td>M</td>\n",
       "      <td>Books</td>\n",
       "      <td>DIY</td>\n",
       "    </tr>\n",
       "    <tr>\n",
       "      <th>3</th>\n",
       "      <td>e-Shop</td>\n",
       "      <td>M</td>\n",
       "      <td>Home and kitchen</td>\n",
       "      <td>Bath</td>\n",
       "    </tr>\n",
       "    <tr>\n",
       "      <th>4</th>\n",
       "      <td>TeleShop</td>\n",
       "      <td>M</td>\n",
       "      <td>Books</td>\n",
       "      <td>DIY</td>\n",
       "    </tr>\n",
       "    <tr>\n",
       "      <th>...</th>\n",
       "      <td>...</td>\n",
       "      <td>...</td>\n",
       "      <td>...</td>\n",
       "      <td>...</td>\n",
       "    </tr>\n",
       "    <tr>\n",
       "      <th>23048</th>\n",
       "      <td>e-Shop</td>\n",
       "      <td>M</td>\n",
       "      <td>Books</td>\n",
       "      <td>Academic</td>\n",
       "    </tr>\n",
       "    <tr>\n",
       "      <th>23049</th>\n",
       "      <td>e-Shop</td>\n",
       "      <td>M</td>\n",
       "      <td>Clothing</td>\n",
       "      <td>Mens</td>\n",
       "    </tr>\n",
       "    <tr>\n",
       "      <th>23050</th>\n",
       "      <td>MBR</td>\n",
       "      <td>M</td>\n",
       "      <td>Home and kitchen</td>\n",
       "      <td>Furnishing</td>\n",
       "    </tr>\n",
       "    <tr>\n",
       "      <th>23051</th>\n",
       "      <td>TeleShop</td>\n",
       "      <td>M</td>\n",
       "      <td>Books</td>\n",
       "      <td>Children</td>\n",
       "    </tr>\n",
       "    <tr>\n",
       "      <th>23052</th>\n",
       "      <td>TeleShop</td>\n",
       "      <td>M</td>\n",
       "      <td>Books</td>\n",
       "      <td>Children</td>\n",
       "    </tr>\n",
       "  </tbody>\n",
       "</table>\n",
       "<p>23053 rows × 4 columns</p>\n",
       "</div>"
      ],
      "text/plain": [
       "      Store_type Gender          prod_cat prod_subcat\n",
       "0         e-Shop      M          Clothing       Women\n",
       "1         e-Shop      F       Electronics   Computers\n",
       "2       TeleShop      M             Books         DIY\n",
       "3         e-Shop      M  Home and kitchen        Bath\n",
       "4       TeleShop      M             Books         DIY\n",
       "...          ...    ...               ...         ...\n",
       "23048     e-Shop      M             Books    Academic\n",
       "23049     e-Shop      M          Clothing        Mens\n",
       "23050        MBR      M  Home and kitchen  Furnishing\n",
       "23051   TeleShop      M             Books    Children\n",
       "23052   TeleShop      M             Books    Children\n",
       "\n",
       "[23053 rows x 4 columns]"
      ]
     },
     "execution_count": 48,
     "metadata": {},
     "output_type": "execute_result"
    }
   ],
   "source": [
    "customers_categorical"
   ]
  },
  {
   "cell_type": "code",
   "execution_count": 53,
   "id": "06df6843-8944-44c2-920c-fdbe45a4a295",
   "metadata": {},
   "outputs": [
    {
     "data": {
      "text/plain": [
       "2"
      ]
     },
     "execution_count": 53,
     "metadata": {},
     "output_type": "execute_result"
    }
   ],
   "source": [
    "customers_categorical['Gender'].nunique()"
   ]
  },
  {
   "cell_type": "code",
   "execution_count": 66,
   "id": "74dcb42c-69a7-4356-9fbb-5b651afb6f53",
   "metadata": {},
   "outputs": [],
   "source": [
    "x = customers_categorical.groupby('prod_subcat').Gender.count().reset_index(name = 'freq')"
   ]
  },
  {
   "cell_type": "code",
   "execution_count": 70,
   "id": "499ec6d4-efc5-4a96-b1a2-0ab2bb8782c5",
   "metadata": {},
   "outputs": [
    {
     "data": {
      "text/plain": [
       "([0, 1, 2, 3, 4, 5, 6, 7, 8, 9, 10, 11, 12, 13, 14, 15, 16, 17],\n",
       " [Text(0, 0, 'Academic'),\n",
       "  Text(1, 0, 'Audio and video'),\n",
       "  Text(2, 0, 'Bath'),\n",
       "  Text(3, 0, 'Cameras'),\n",
       "  Text(4, 0, 'Children'),\n",
       "  Text(5, 0, 'Comics'),\n",
       "  Text(6, 0, 'Computers'),\n",
       "  Text(7, 0, 'DIY'),\n",
       "  Text(8, 0, 'Fiction'),\n",
       "  Text(9, 0, 'Furnishing'),\n",
       "  Text(10, 0, 'Kids'),\n",
       "  Text(11, 0, 'Kitchen'),\n",
       "  Text(12, 0, 'Mens'),\n",
       "  Text(13, 0, 'Mobiles'),\n",
       "  Text(14, 0, 'Non-Fiction'),\n",
       "  Text(15, 0, 'Personal Appliances'),\n",
       "  Text(16, 0, 'Tools'),\n",
       "  Text(17, 0, 'Women')])"
      ]
     },
     "execution_count": 70,
     "metadata": {},
     "output_type": "execute_result"
    },
    {
     "data": {
      "image/png": "[encoded data removed]",
      "text/plain": [
       "<Figure size 640x480 with 1 Axes>"
      ]
     },
     "metadata": {},
     "output_type": "display_data"
    }
   ],
   "source": [
    "plt.bar(x['prod_subcat'], x['freq'] ,edgecolor = 'black')\n",
    "plt.grid(True)\n",
    "plt.xticks(rotation = 80)"
   ]
  },
  {
   "cell_type": "code",
   "execution_count": 77,
   "id": "ee636d73-eba5-4e22-8116-2dbb54e6418a",
   "metadata": {},
   "outputs": [
    {
     "data": {
      "text/plain": [
       "Timedelta('1130 days 00:00:00')"
      ]
     },
     "execution_count": 77,
     "metadata": {},
     "output_type": "execute_result"
    }
   ],
   "source": [
    "(customers_final['tran_date'].max() - customers_final['tran_date'].min())"
   ]
  },
  {
   "cell_type": "code",
   "execution_count": 80,
   "id": "68f23aa0-14f1-4bfe-9ee5-9597b740c241",
   "metadata": {},
   "outputs": [
    {
     "name": "stdout",
     "output_type": "stream",
     "text": [
      "2011-01-25 00:00:00 || 2014-02-28 00:00:00\n"
     ]
    }
   ],
   "source": [
    "print(customers_final['tran_date'].min() , \"||\",customers_final['tran_date'].max())"
   ]
  },
  {
   "cell_type": "code",
   "execution_count": 84,
   "id": "fb52c156-eeca-468b-aa60-246d060c6651",
   "metadata": {},
   "outputs": [
    {
     "data": {
      "text/plain": [
       "2177"
      ]
     },
     "execution_count": 84,
     "metadata": {},
     "output_type": "execute_result"
    }
   ],
   "source": [
    "customers_final[customers_final['total_amt'] < 0].transaction_id.count()"
   ]
  },
  {
   "cell_type": "code",
   "execution_count": 91,
   "id": "a0347ff4-f3b7-4831-b9d6-fc81f09eb7eb",
   "metadata": {},
   "outputs": [
    {
     "data": {
      "text/html": [
       "<div>\n",
       "<style scoped>\n",
       "    .dataframe tbody tr th:only-of-type {\n",
       "        vertical-align: middle;\n",
       "    }\n",
       "\n",
       "    .dataframe tbody tr th {\n",
       "        vertical-align: top;\n",
       "    }\n",
       "\n",
       "    .dataframe thead th {\n",
       "        text-align: right;\n",
       "    }\n",
       "</style>\n",
       "<table border=\"1\" class=\"dataframe\">\n",
       "  <thead>\n",
       "    <tr style=\"text-align: right;\">\n",
       "      <th></th>\n",
       "      <th>prod_cat</th>\n",
       "      <th>count</th>\n",
       "    </tr>\n",
       "  </thead>\n",
       "  <tbody>\n",
       "    <tr>\n",
       "      <th>0</th>\n",
       "      <td>Books</td>\n",
       "      <td>3116</td>\n",
       "    </tr>\n",
       "  </tbody>\n",
       "</table>\n",
       "</div>"
      ],
      "text/plain": [
       "  prod_cat  count\n",
       "0    Books   3116"
      ]
     },
     "execution_count": 91,
     "metadata": {},
     "output_type": "execute_result"
    }
   ],
   "source": [
    "customers_final[customers_final['Gender'] == 'M'].prod_cat.value_counts().reset_index(name = 'count').sort_values(by = 'count', ascending = False).head(1)"
   ]
  },
  {
   "cell_type": "code",
   "execution_count": 92,
   "id": "b8814a2a-a6da-4958-a97b-5bf3f22edcc5",
   "metadata": {},
   "outputs": [
    {
     "data": {
      "text/html": [
       "<div>\n",
       "<style scoped>\n",
       "    .dataframe tbody tr th:only-of-type {\n",
       "        vertical-align: middle;\n",
       "    }\n",
       "\n",
       "    .dataframe tbody tr th {\n",
       "        vertical-align: top;\n",
       "    }\n",
       "\n",
       "    .dataframe thead th {\n",
       "        text-align: right;\n",
       "    }\n",
       "</style>\n",
       "<table border=\"1\" class=\"dataframe\">\n",
       "  <thead>\n",
       "    <tr style=\"text-align: right;\">\n",
       "      <th></th>\n",
       "      <th>prod_cat</th>\n",
       "      <th>count</th>\n",
       "    </tr>\n",
       "  </thead>\n",
       "  <tbody>\n",
       "    <tr>\n",
       "      <th>0</th>\n",
       "      <td>Books</td>\n",
       "      <td>2949</td>\n",
       "    </tr>\n",
       "  </tbody>\n",
       "</table>\n",
       "</div>"
      ],
      "text/plain": [
       "  prod_cat  count\n",
       "0    Books   2949"
      ]
     },
     "execution_count": 92,
     "metadata": {},
     "output_type": "execute_result"
    }
   ],
   "source": [
    "customers_final[customers_final['Gender'] == 'F'].prod_cat.value_counts().reset_index(name = 'count').sort_values(by = 'count', ascending = False).head(1)"
   ]
  },
  {
   "cell_type": "code",
   "execution_count": 116,
   "id": "4b4a4146-7574-43fc-a512-3fbc6d9257b8",
   "metadata": {},
   "outputs": [],
   "source": [
    "x = customers.groupby('city_code').customer_Id.count().reset_index(name = 'cus_count')"
   ]
  },
  {
   "cell_type": "code",
   "execution_count": 117,
   "id": "eb0368d6-5d4a-4e1d-a4c9-6ed724fac6ff",
   "metadata": {},
   "outputs": [],
   "source": [
    "y = customers.customer_Id.count()"
   ]
  },
  {
   "cell_type": "code",
   "execution_count": 118,
   "id": "77be8e33-e6a1-4010-b123-cb5c3960f4ed",
   "metadata": {},
   "outputs": [],
   "source": [
    "x['percen'] = (x['cus_count'] / y) * 100"
   ]
  },
  {
   "cell_type": "code",
   "execution_count": 111,
   "id": "593d725d-9021-473f-b3a5-4c089dffb27b",
   "metadata": {},
   "outputs": [
    {
     "data": {
      "text/plain": [
       "city_code    float64\n",
       "cus_count      int64\n",
       "percen       float64\n",
       "dtype: object"
      ]
     },
     "execution_count": 111,
     "metadata": {},
     "output_type": "execute_result"
    }
   ],
   "source": [
    "x.dtypes"
   ]
  },
  {
   "cell_type": "code",
   "execution_count": 119,
   "id": "1b739720-66df-48e2-ad65-e85a3fb5dd56",
   "metadata": {},
   "outputs": [
    {
     "data": {
      "text/html": [
       "<div>\n",
       "<style scoped>\n",
       "    .dataframe tbody tr th:only-of-type {\n",
       "        vertical-align: middle;\n",
       "    }\n",
       "\n",
       "    .dataframe tbody tr th {\n",
       "        vertical-align: top;\n",
       "    }\n",
       "\n",
       "    .dataframe thead th {\n",
       "        text-align: right;\n",
       "    }\n",
       "</style>\n",
       "<table border=\"1\" class=\"dataframe\">\n",
       "  <thead>\n",
       "    <tr style=\"text-align: right;\">\n",
       "      <th></th>\n",
       "      <th>city_code</th>\n",
       "      <th>cus_count</th>\n",
       "      <th>percen</th>\n",
       "    </tr>\n",
       "  </thead>\n",
       "  <tbody>\n",
       "    <tr>\n",
       "      <th>2</th>\n",
       "      <td>3.0</td>\n",
       "      <td>595</td>\n",
       "      <td>10.536568</td>\n",
       "    </tr>\n",
       "  </tbody>\n",
       "</table>\n",
       "</div>"
      ],
      "text/plain": [
       "   city_code  cus_count     percen\n",
       "2        3.0        595  10.536568"
      ]
     },
     "execution_count": 119,
     "metadata": {},
     "output_type": "execute_result"
    }
   ],
   "source": [
    "x.sort_values(by = 'percen', ascending = False ).head(1)"
   ]
  },
  {
   "cell_type": "code",
   "execution_count": 127,
   "id": "b518ff83-95da-4d94-9450-a513647cf26f",
   "metadata": {},
   "outputs": [
    {
     "data": {
      "text/html": [
       "<div>\n",
       "<style scoped>\n",
       "    .dataframe tbody tr th:only-of-type {\n",
       "        vertical-align: middle;\n",
       "    }\n",
       "\n",
       "    .dataframe tbody tr th {\n",
       "        vertical-align: top;\n",
       "    }\n",
       "\n",
       "    .dataframe thead th {\n",
       "        text-align: right;\n",
       "    }\n",
       "</style>\n",
       "<table border=\"1\" class=\"dataframe\">\n",
       "  <thead>\n",
       "    <tr style=\"text-align: right;\">\n",
       "      <th></th>\n",
       "      <th>Store_type</th>\n",
       "      <th>quant_sum</th>\n",
       "    </tr>\n",
       "  </thead>\n",
       "  <tbody>\n",
       "    <tr>\n",
       "      <th>3</th>\n",
       "      <td>e-Shop</td>\n",
       "      <td>22763</td>\n",
       "    </tr>\n",
       "    <tr>\n",
       "      <th>1</th>\n",
       "      <td>MBR</td>\n",
       "      <td>11194</td>\n",
       "    </tr>\n",
       "    <tr>\n",
       "      <th>0</th>\n",
       "      <td>Flagship store</td>\n",
       "      <td>11133</td>\n",
       "    </tr>\n",
       "    <tr>\n",
       "      <th>2</th>\n",
       "      <td>TeleShop</td>\n",
       "      <td>10984</td>\n",
       "    </tr>\n",
       "  </tbody>\n",
       "</table>\n",
       "</div>"
      ],
      "text/plain": [
       "       Store_type  quant_sum\n",
       "3          e-Shop      22763\n",
       "1             MBR      11194\n",
       "0  Flagship store      11133\n",
       "2        TeleShop      10984"
      ]
     },
     "execution_count": 127,
     "metadata": {},
     "output_type": "execute_result"
    }
   ],
   "source": [
    "customers_final.groupby('Store_type').Qty.sum().reset_index(name = 'quant_sum').sort_values(by = 'quant_sum', ascending = False).head(1)"
   ]
  },
  {
   "cell_type": "code",
   "execution_count": 126,
   "id": "12c53118-b235-427b-bd29-b84f5c007d48",
   "metadata": {},
   "outputs": [
    {
     "data": {
      "text/html": [
       "<div>\n",
       "<style scoped>\n",
       "    .dataframe tbody tr th:only-of-type {\n",
       "        vertical-align: middle;\n",
       "    }\n",
       "\n",
       "    .dataframe tbody tr th {\n",
       "        vertical-align: top;\n",
       "    }\n",
       "\n",
       "    .dataframe thead th {\n",
       "        text-align: right;\n",
       "    }\n",
       "</style>\n",
       "<table border=\"1\" class=\"dataframe\">\n",
       "  <thead>\n",
       "    <tr style=\"text-align: right;\">\n",
       "      <th></th>\n",
       "      <th>Store_type</th>\n",
       "      <th>amt_sum</th>\n",
       "    </tr>\n",
       "  </thead>\n",
       "  <tbody>\n",
       "    <tr>\n",
       "      <th>3</th>\n",
       "      <td>e-Shop</td>\n",
       "      <td>19824816.05</td>\n",
       "    </tr>\n",
       "  </tbody>\n",
       "</table>\n",
       "</div>"
      ],
      "text/plain": [
       "  Store_type      amt_sum\n",
       "3     e-Shop  19824816.05"
      ]
     },
     "execution_count": 126,
     "metadata": {},
     "output_type": "execute_result"
    }
   ],
   "source": [
    "customers_final.groupby('Store_type').total_amt.sum().reset_index(name = 'amt_sum').sort_values(by = 'amt_sum', ascending = False).head(1)"
   ]
  },
  {
   "cell_type": "code",
   "execution_count": 120,
   "id": "c05fec1e-41ff-4bdb-99fc-9ec1153a6958",
   "metadata": {},
   "outputs": [
    {
     "data": {
      "text/html": [
       "<div>\n",
       "<style scoped>\n",
       "    .dataframe tbody tr th:only-of-type {\n",
       "        vertical-align: middle;\n",
       "    }\n",
       "\n",
       "    .dataframe tbody tr th {\n",
       "        vertical-align: top;\n",
       "    }\n",
       "\n",
       "    .dataframe thead th {\n",
       "        text-align: right;\n",
       "    }\n",
       "</style>\n",
       "<table border=\"1\" class=\"dataframe\">\n",
       "  <thead>\n",
       "    <tr style=\"text-align: right;\">\n",
       "      <th></th>\n",
       "      <th>transaction_id</th>\n",
       "      <th>customer_Id</th>\n",
       "      <th>tran_date</th>\n",
       "      <th>prod_sub_cat_code</th>\n",
       "      <th>prod_cat_code</th>\n",
       "      <th>Qty</th>\n",
       "      <th>Rate</th>\n",
       "      <th>Tax</th>\n",
       "      <th>total_amt</th>\n",
       "      <th>Store_type</th>\n",
       "      <th>DOB</th>\n",
       "      <th>Gender</th>\n",
       "      <th>city_code</th>\n",
       "      <th>prod_cat</th>\n",
       "      <th>prod_subcat</th>\n",
       "    </tr>\n",
       "  </thead>\n",
       "  <tbody>\n",
       "    <tr>\n",
       "      <th>0</th>\n",
       "      <td>80712190438</td>\n",
       "      <td>270351</td>\n",
       "      <td>2014-02-28</td>\n",
       "      <td>1</td>\n",
       "      <td>1</td>\n",
       "      <td>-5</td>\n",
       "      <td>-772</td>\n",
       "      <td>405.300</td>\n",
       "      <td>-4265.300</td>\n",
       "      <td>e-Shop</td>\n",
       "      <td>1981-09-26</td>\n",
       "      <td>M</td>\n",
       "      <td>5.0</td>\n",
       "      <td>Clothing</td>\n",
       "      <td>Women</td>\n",
       "    </tr>\n",
       "    <tr>\n",
       "      <th>1</th>\n",
       "      <td>29258453508</td>\n",
       "      <td>270384</td>\n",
       "      <td>2014-02-27</td>\n",
       "      <td>5</td>\n",
       "      <td>3</td>\n",
       "      <td>-5</td>\n",
       "      <td>-1497</td>\n",
       "      <td>785.925</td>\n",
       "      <td>-8270.925</td>\n",
       "      <td>e-Shop</td>\n",
       "      <td>1973-11-05</td>\n",
       "      <td>F</td>\n",
       "      <td>8.0</td>\n",
       "      <td>Electronics</td>\n",
       "      <td>Computers</td>\n",
       "    </tr>\n",
       "    <tr>\n",
       "      <th>2</th>\n",
       "      <td>51750724947</td>\n",
       "      <td>273420</td>\n",
       "      <td>2014-02-24</td>\n",
       "      <td>6</td>\n",
       "      <td>5</td>\n",
       "      <td>-2</td>\n",
       "      <td>-791</td>\n",
       "      <td>166.110</td>\n",
       "      <td>-1748.110</td>\n",
       "      <td>TeleShop</td>\n",
       "      <td>1992-07-27</td>\n",
       "      <td>M</td>\n",
       "      <td>8.0</td>\n",
       "      <td>Books</td>\n",
       "      <td>DIY</td>\n",
       "    </tr>\n",
       "    <tr>\n",
       "      <th>3</th>\n",
       "      <td>93274880719</td>\n",
       "      <td>271509</td>\n",
       "      <td>2014-02-24</td>\n",
       "      <td>11</td>\n",
       "      <td>6</td>\n",
       "      <td>-3</td>\n",
       "      <td>-1363</td>\n",
       "      <td>429.345</td>\n",
       "      <td>-4518.345</td>\n",
       "      <td>e-Shop</td>\n",
       "      <td>1981-08-06</td>\n",
       "      <td>M</td>\n",
       "      <td>3.0</td>\n",
       "      <td>Home and kitchen</td>\n",
       "      <td>Bath</td>\n",
       "    </tr>\n",
       "    <tr>\n",
       "      <th>4</th>\n",
       "      <td>51750724947</td>\n",
       "      <td>273420</td>\n",
       "      <td>2014-02-23</td>\n",
       "      <td>6</td>\n",
       "      <td>5</td>\n",
       "      <td>-2</td>\n",
       "      <td>-791</td>\n",
       "      <td>166.110</td>\n",
       "      <td>-1748.110</td>\n",
       "      <td>TeleShop</td>\n",
       "      <td>1992-07-27</td>\n",
       "      <td>M</td>\n",
       "      <td>8.0</td>\n",
       "      <td>Books</td>\n",
       "      <td>DIY</td>\n",
       "    </tr>\n",
       "    <tr>\n",
       "      <th>...</th>\n",
       "      <td>...</td>\n",
       "      <td>...</td>\n",
       "      <td>...</td>\n",
       "      <td>...</td>\n",
       "      <td>...</td>\n",
       "      <td>...</td>\n",
       "      <td>...</td>\n",
       "      <td>...</td>\n",
       "      <td>...</td>\n",
       "      <td>...</td>\n",
       "      <td>...</td>\n",
       "      <td>...</td>\n",
       "      <td>...</td>\n",
       "      <td>...</td>\n",
       "      <td>...</td>\n",
       "    </tr>\n",
       "    <tr>\n",
       "      <th>23048</th>\n",
       "      <td>94340757522</td>\n",
       "      <td>274550</td>\n",
       "      <td>2011-01-25</td>\n",
       "      <td>12</td>\n",
       "      <td>5</td>\n",
       "      <td>1</td>\n",
       "      <td>1264</td>\n",
       "      <td>132.720</td>\n",
       "      <td>1396.720</td>\n",
       "      <td>e-Shop</td>\n",
       "      <td>1972-02-21</td>\n",
       "      <td>M</td>\n",
       "      <td>7.0</td>\n",
       "      <td>Books</td>\n",
       "      <td>Academic</td>\n",
       "    </tr>\n",
       "    <tr>\n",
       "      <th>23049</th>\n",
       "      <td>89780862956</td>\n",
       "      <td>270022</td>\n",
       "      <td>2011-01-25</td>\n",
       "      <td>4</td>\n",
       "      <td>1</td>\n",
       "      <td>1</td>\n",
       "      <td>677</td>\n",
       "      <td>71.085</td>\n",
       "      <td>748.085</td>\n",
       "      <td>e-Shop</td>\n",
       "      <td>1984-04-27</td>\n",
       "      <td>M</td>\n",
       "      <td>9.0</td>\n",
       "      <td>Clothing</td>\n",
       "      <td>Mens</td>\n",
       "    </tr>\n",
       "    <tr>\n",
       "      <th>23050</th>\n",
       "      <td>85115299378</td>\n",
       "      <td>271020</td>\n",
       "      <td>2011-01-25</td>\n",
       "      <td>2</td>\n",
       "      <td>6</td>\n",
       "      <td>4</td>\n",
       "      <td>1052</td>\n",
       "      <td>441.840</td>\n",
       "      <td>4649.840</td>\n",
       "      <td>MBR</td>\n",
       "      <td>1976-06-20</td>\n",
       "      <td>M</td>\n",
       "      <td>8.0</td>\n",
       "      <td>Home and kitchen</td>\n",
       "      <td>Furnishing</td>\n",
       "    </tr>\n",
       "    <tr>\n",
       "      <th>23051</th>\n",
       "      <td>72870271171</td>\n",
       "      <td>270911</td>\n",
       "      <td>2011-01-25</td>\n",
       "      <td>11</td>\n",
       "      <td>5</td>\n",
       "      <td>3</td>\n",
       "      <td>1142</td>\n",
       "      <td>359.730</td>\n",
       "      <td>3785.730</td>\n",
       "      <td>TeleShop</td>\n",
       "      <td>1970-05-22</td>\n",
       "      <td>M</td>\n",
       "      <td>2.0</td>\n",
       "      <td>Books</td>\n",
       "      <td>Children</td>\n",
       "    </tr>\n",
       "    <tr>\n",
       "      <th>23052</th>\n",
       "      <td>77960931771</td>\n",
       "      <td>271961</td>\n",
       "      <td>2011-01-25</td>\n",
       "      <td>11</td>\n",
       "      <td>5</td>\n",
       "      <td>1</td>\n",
       "      <td>447</td>\n",
       "      <td>46.935</td>\n",
       "      <td>493.935</td>\n",
       "      <td>TeleShop</td>\n",
       "      <td>1982-01-15</td>\n",
       "      <td>M</td>\n",
       "      <td>1.0</td>\n",
       "      <td>Books</td>\n",
       "      <td>Children</td>\n",
       "    </tr>\n",
       "  </tbody>\n",
       "</table>\n",
       "<p>23053 rows × 15 columns</p>\n",
       "</div>"
      ],
      "text/plain": [
       "       transaction_id  customer_Id  tran_date  prod_sub_cat_code  \\\n",
       "0         80712190438       270351 2014-02-28                  1   \n",
       "1         29258453508       270384 2014-02-27                  5   \n",
       "2         51750724947       273420 2014-02-24                  6   \n",
       "3         93274880719       271509 2014-02-24                 11   \n",
       "4         51750724947       273420 2014-02-23                  6   \n",
       "...               ...          ...        ...                ...   \n",
       "23048     94340757522       274550 2011-01-25                 12   \n",
       "23049     89780862956       270022 2011-01-25                  4   \n",
       "23050     85115299378       271020 2011-01-25                  2   \n",
       "23051     72870271171       270911 2011-01-25                 11   \n",
       "23052     77960931771       271961 2011-01-25                 11   \n",
       "\n",
       "       prod_cat_code  Qty  Rate      Tax  total_amt Store_type        DOB  \\\n",
       "0                  1   -5  -772  405.300  -4265.300     e-Shop 1981-09-26   \n",
       "1                  3   -5 -1497  785.925  -8270.925     e-Shop 1973-11-05   \n",
       "2                  5   -2  -791  166.110  -1748.110   TeleShop 1992-07-27   \n",
       "3                  6   -3 -1363  429.345  -4518.345     e-Shop 1981-08-06   \n",
       "4                  5   -2  -791  166.110  -1748.110   TeleShop 1992-07-27   \n",
       "...              ...  ...   ...      ...        ...        ...        ...   \n",
       "23048              5    1  1264  132.720   1396.720     e-Shop 1972-02-21   \n",
       "23049              1    1   677   71.085    748.085     e-Shop 1984-04-27   \n",
       "23050              6    4  1052  441.840   4649.840        MBR 1976-06-20   \n",
       "23051              5    3  1142  359.730   3785.730   TeleShop 1970-05-22   \n",
       "23052              5    1   447   46.935    493.935   TeleShop 1982-01-15   \n",
       "\n",
       "      Gender  city_code          prod_cat prod_subcat  \n",
       "0          M        5.0          Clothing       Women  \n",
       "1          F        8.0       Electronics   Computers  \n",
       "2          M        8.0             Books         DIY  \n",
       "3          M        3.0  Home and kitchen        Bath  \n",
       "4          M        8.0             Books         DIY  \n",
       "...      ...        ...               ...         ...  \n",
       "23048      M        7.0             Books    Academic  \n",
       "23049      M        9.0          Clothing        Mens  \n",
       "23050      M        8.0  Home and kitchen  Furnishing  \n",
       "23051      M        2.0             Books    Children  \n",
       "23052      M        1.0             Books    Children  \n",
       "\n",
       "[23053 rows x 15 columns]"
      ]
     },
     "execution_count": 120,
     "metadata": {},
     "output_type": "execute_result"
    }
   ],
   "source": [
    "customers_final"
   ]
  },
  {
   "cell_type": "code",
   "execution_count": 132,
   "id": "aea7db8c-4a42-4d45-b65a-ca7aab640308",
   "metadata": {},
   "outputs": [
    {
     "data": {
      "text/plain": [
       "3409559.27"
      ]
     },
     "execution_count": 132,
     "metadata": {},
     "output_type": "execute_result"
    }
   ],
   "source": [
    "customers_final[(customers_final['Store_type'] == 'Flagship store') & (customers_final['prod_cat'].isin(['Electronics' , 'Clothing']))].total_amt.sum()"
   ]
  },
  {
   "cell_type": "code",
   "execution_count": 133,
   "id": "c4024cc7-852e-4b83-9167-91ca2a16bfb9",
   "metadata": {},
   "outputs": [
    {
     "data": {
      "text/plain": [
       "5703109.424999999"
      ]
     },
     "execution_count": 133,
     "metadata": {},
     "output_type": "execute_result"
    }
   ],
   "source": [
    "customers_final[(customers_final['Gender'] == 'M') & (customers_final['prod_cat'].isin(['Electronics']))].total_amt.sum()"
   ]
  },
  {
   "cell_type": "code",
   "execution_count": 140,
   "id": "d31a6da8-9f7f-4b31-9b86-dc9503d7375e",
   "metadata": {},
   "outputs": [],
   "source": [
    "x = customers_final[customers_final['Qty'] > 0].groupby('customer_Id').transaction_id.nunique().reset_index(name = 'count_transac').sort_values(by= 'count_transac', ascending = False)"
   ]
  },
  {
   "cell_type": "code",
   "execution_count": 143,
   "id": "6074d7c6-f8b6-4dd3-8f5b-9fa73287b0a7",
   "metadata": {},
   "outputs": [
    {
     "data": {
      "text/html": [
       "<div>\n",
       "<style scoped>\n",
       "    .dataframe tbody tr th:only-of-type {\n",
       "        vertical-align: middle;\n",
       "    }\n",
       "\n",
       "    .dataframe tbody tr th {\n",
       "        vertical-align: top;\n",
       "    }\n",
       "\n",
       "    .dataframe thead th {\n",
       "        text-align: right;\n",
       "    }\n",
       "</style>\n",
       "<table border=\"1\" class=\"dataframe\">\n",
       "  <thead>\n",
       "    <tr style=\"text-align: right;\">\n",
       "      <th></th>\n",
       "      <th>customer_Id</th>\n",
       "      <th>count_transac</th>\n",
       "    </tr>\n",
       "  </thead>\n",
       "  <tbody>\n",
       "    <tr>\n",
       "      <th>3867</th>\n",
       "      <td>272741</td>\n",
       "      <td>11</td>\n",
       "    </tr>\n",
       "    <tr>\n",
       "      <th>4032</th>\n",
       "      <td>273014</td>\n",
       "      <td>11</td>\n",
       "    </tr>\n",
       "    <tr>\n",
       "      <th>4</th>\n",
       "      <td>266794</td>\n",
       "      <td>11</td>\n",
       "    </tr>\n",
       "    <tr>\n",
       "      <th>4815</th>\n",
       "      <td>274227</td>\n",
       "      <td>11</td>\n",
       "    </tr>\n",
       "    <tr>\n",
       "      <th>2606</th>\n",
       "      <td>270803</td>\n",
       "      <td>11</td>\n",
       "    </tr>\n",
       "    <tr>\n",
       "      <th>2426</th>\n",
       "      <td>270535</td>\n",
       "      <td>11</td>\n",
       "    </tr>\n",
       "  </tbody>\n",
       "</table>\n",
       "</div>"
      ],
      "text/plain": [
       "      customer_Id  count_transac\n",
       "3867       272741             11\n",
       "4032       273014             11\n",
       "4          266794             11\n",
       "4815       274227             11\n",
       "2606       270803             11\n",
       "2426       270535             11"
      ]
     },
     "execution_count": 143,
     "metadata": {},
     "output_type": "execute_result"
    }
   ],
   "source": [
    "x[x['count_transac'] > 10]"
   ]
  },
  {
   "cell_type": "code",
   "execution_count": 146,
   "id": "c2e6c869-ca6b-474a-89bd-8ba3d9d25098",
   "metadata": {},
   "outputs": [],
   "source": [
    "curr_date = dt.datetime.now()"
   ]
  },
  {
   "cell_type": "code",
   "execution_count": 161,
   "id": "3c2f1337-fcc0-402b-a948-624502bf3e2a",
   "metadata": {},
   "outputs": [],
   "source": [
    "customers_final['age'] = np.floor((curr_date  - customers_final['DOB']).dt.days / 365.25).astype(int)"
   ]
  },
  {
   "cell_type": "code",
   "execution_count": 162,
   "id": "17224b2d-2665-44a9-91f5-b0b385774350",
   "metadata": {},
   "outputs": [
    {
     "data": {
      "text/plain": [
       "0        43\n",
       "1        51\n",
       "2        32\n",
       "3        43\n",
       "4        32\n",
       "         ..\n",
       "23048    52\n",
       "23049    40\n",
       "23050    48\n",
       "23051    54\n",
       "23052    42\n",
       "Name: age, Length: 23053, dtype: int32"
      ]
     },
     "execution_count": 162,
     "metadata": {},
     "output_type": "execute_result"
    }
   ],
   "source": [
    "customers_final['age']"
   ]
  },
  {
   "cell_type": "code",
   "execution_count": 166,
   "id": "14da8b1f-598c-45df-be1a-959b834766d9",
   "metadata": {},
   "outputs": [],
   "source": [
    "customers_final.drop(columns = {'x'}, inplace = True)"
   ]
  },
  {
   "cell_type": "code",
   "execution_count": 199,
   "id": "5be1f58e-f81d-4f64-a81d-cf34e44fa3d3",
   "metadata": {},
   "outputs": [],
   "source": [
    "x =customers_final[customers_final['age'].isin(range(25, 36))]"
   ]
  },
  {
   "cell_type": "code",
   "execution_count": 200,
   "id": "f5cf5415-b0e5-4f4c-99ab-881366c0961a",
   "metadata": {},
   "outputs": [
    {
     "data": {
      "text/plain": [
       "4042002.705"
      ]
     },
     "execution_count": 200,
     "metadata": {},
     "output_type": "execute_result"
    }
   ],
   "source": [
    "x[x['prod_cat'].isin(['Electronics','Books'])].total_amt.sum()"
   ]
  },
  {
   "cell_type": "code",
   "execution_count": 201,
   "id": "1ae347b5-8aea-4d39-b180-eec826eaf9f8",
   "metadata": {},
   "outputs": [
    {
     "data": {
      "text/plain": [
       "Timestamp('2014-01-01 00:00:00')"
      ]
     },
     "execution_count": 201,
     "metadata": {},
     "output_type": "execute_result"
    }
   ],
   "source": [
    "pd.to_datetime('2014-01-01')"
   ]
  },
  {
   "cell_type": "code",
   "execution_count": 202,
   "id": "6721735a-0fc7-4c76-9712-3b91e7c78e92",
   "metadata": {},
   "outputs": [
    {
     "data": {
      "text/plain": [
       "452371.52999999997"
      ]
     },
     "execution_count": 202,
     "metadata": {},
     "output_type": "execute_result"
    }
   ],
   "source": [
    "x[ (x['tran_date']>= pd.to_datetime('2014-01-01')) &  (x['tran_date']<= pd.to_datetime('2014-03-01')) ].total_amt.sum()"
   ]
  },
  {
   "cell_type": "code",
   "execution_count": 198,
   "id": "4f911bae-1b82-4e86-8ef5-7e1a563216aa",
   "metadata": {},
   "outputs": [
    {
     "name": "stdout",
     "output_type": "stream",
     "text": [
      "25\n",
      "26\n",
      "27\n",
      "28\n",
      "29\n",
      "30\n",
      "31\n",
      "32\n",
      "33\n",
      "34\n",
      "35\n"
     ]
    }
   ],
   "source": [
    "for i in range(25, 36):\n",
    "    print(i)"
   ]
  },
  {
   "cell_type": "code",
   "execution_count": 195,
   "id": "2fa50a2d-e2ef-4b5e-9062-a8294aa71c39",
   "metadata": {},
   "outputs": [
    {
     "data": {
      "text/plain": [
       "range(25, 35)"
      ]
     },
     "execution_count": 195,
     "metadata": {},
     "output_type": "execute_result"
    }
   ],
   "source": [
    "a"
   ]
  },
  {
   "cell_type": "code",
   "execution_count": 204,
   "id": "fc9264ed-1e7c-410d-acf7-a168b4c5340f",
   "metadata": {},
   "outputs": [
    {
     "data": {
      "text/plain": [
       "<DatetimeArray>\n",
       "['2014-02-24 00:00:00', '2014-02-23 00:00:00', '2014-02-20 00:00:00',\n",
       " '2014-02-19 00:00:00', '2014-02-18 00:00:00', '2014-02-17 00:00:00',\n",
       " '2014-02-16 00:00:00', '2014-02-15 00:00:00', '2014-02-14 00:00:00',\n",
       " '2014-02-13 00:00:00', '2014-02-12 00:00:00', '2014-02-11 00:00:00',\n",
       " '2014-02-10 00:00:00', '2014-02-09 00:00:00', '2014-02-08 00:00:00',\n",
       " '2014-02-07 00:00:00', '2014-02-06 00:00:00', '2014-02-05 00:00:00',\n",
       " '2014-02-04 00:00:00', '2014-02-03 00:00:00', '2014-02-02 00:00:00',\n",
       " '2014-02-01 00:00:00', '2014-01-31 00:00:00', '2014-01-30 00:00:00',\n",
       " '2014-01-29 00:00:00', '2014-01-28 00:00:00', '2014-01-27 00:00:00',\n",
       " '2014-01-26 00:00:00', '2014-01-25 00:00:00', '2014-01-24 00:00:00',\n",
       " '2014-01-23 00:00:00', '2014-01-21 00:00:00', '2014-01-20 00:00:00',\n",
       " '2014-01-19 00:00:00', '2014-01-18 00:00:00', '2014-01-17 00:00:00',\n",
       " '2014-01-16 00:00:00', '2014-01-15 00:00:00', '2014-01-14 00:00:00',\n",
       " '2014-01-13 00:00:00', '2014-01-12 00:00:00', '2014-01-11 00:00:00',\n",
       " '2014-01-10 00:00:00', '2014-01-09 00:00:00', '2014-01-08 00:00:00',\n",
       " '2014-01-07 00:00:00', '2014-01-06 00:00:00', '2014-01-05 00:00:00',\n",
       " '2014-01-03 00:00:00', '2014-01-02 00:00:00', '2014-01-01 00:00:00']\n",
       "Length: 51, dtype: datetime64[ns]"
      ]
     },
     "execution_count": 204,
     "metadata": {},
     "output_type": "execute_result"
    }
   ],
   "source": [
    "x[ (x['tran_date']>= pd.to_datetime('2014-01-01')) &  (x['tran_date']<= pd.to_datetime('2014-03-01')) ].tran_date.unique()"
   ]
  },
  {
   "cell_type": "code",
   "execution_count": null,
   "id": "138ca5d3-0117-4b09-a381-c87fd65c723d",
   "metadata": {},
   "outputs": [],
   "source": []
  }
 ],
 "metadata": {
  "kernelspec": {
   "display_name": "Python 3 (ipykernel)",
   "language": "python",
   "name": "python3"
  },
  "language_info": {
   "codemirror_mode": {
    "name": "ipython",
    "version": 3
   },
   "file_extension": ".py",
   "mimetype": "text/x-python",
   "name": "python",
   "nbconvert_exporter": "python",
   "pygments_lexer": "ipython3",
   "version": "3.12.4"
  }
 },
 "nbformat": 4,
 "nbformat_minor": 5
}
